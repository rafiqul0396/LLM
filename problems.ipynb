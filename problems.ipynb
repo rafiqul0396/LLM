{
  "nbformat": 4,
  "nbformat_minor": 0,
  "metadata": {
    "colab": {
      "private_outputs": true,
      "provenance": [],
      "authorship_tag": "ABX9TyMz/gpftMoCTkYKxSsa95Kn",
      "include_colab_link": true
    },
    "kernelspec": {
      "name": "python3",
      "display_name": "Python 3"
    },
    "language_info": {
      "name": "python"
    }
  },
  "cells": [
    {
      "cell_type": "markdown",
      "metadata": {
        "id": "view-in-github",
        "colab_type": "text"
      },
      "source": [
        "<a href=\"https://colab.research.google.com/github/rafiqul0396/LLM/blob/main/problems.ipynb\" target=\"_parent\"><img src=\"https://colab.research.google.com/assets/colab-badge.svg\" alt=\"Open In Colab\"/></a>"
      ]
    },
    {
      "cell_type": "markdown",
      "source": [
        "\n"
      ],
      "metadata": {
        "id": "i7k281eR5vZN"
      }
    },
    {
      "cell_type": "code",
      "source": [
        "import matplotlib as mpl\n",
        "import matplotlib.pyplot as plt\n",
        "import numpy as np"
      ],
      "metadata": {
        "id": "8npFLIex7U1M"
      },
      "execution_count": null,
      "outputs": []
    },
    {
      "cell_type": "code",
      "source": [
        "d=np.arange(0,50,1)\n",
        "d"
      ],
      "metadata": {
        "id": "CiCkTpRs7a4x"
      },
      "execution_count": null,
      "outputs": []
    },
    {
      "cell_type": "code",
      "execution_count": null,
      "metadata": {
        "id": "gvvGcrqy5qKZ"
      },
      "outputs": [],
      "source": [
        "# mark 1  generate  1kj/day and 1 april start\n",
        "# mark 2 generate 4 kj/day and 1 may start\n",
        "y1=d*1+30\n",
        "y2=d*4\n"
      ]
    },
    {
      "cell_type": "code",
      "source": [
        "y1\n"
      ],
      "metadata": {
        "id": "59kGhsIE7KcF"
      },
      "execution_count": null,
      "outputs": []
    },
    {
      "cell_type": "code",
      "source": [
        "y2"
      ],
      "metadata": {
        "id": "CntpkMbR7QAQ"
      },
      "execution_count": null,
      "outputs": []
    },
    {
      "cell_type": "code",
      "source": [
        "fig, ax = plt.subplots()\n",
        "plt.title('Design problems')\n",
        "plt.xlabel('days')\n",
        "plt.ylabel('energy')\n",
        "ax.set_xlim([0, 50])\n",
        "ax.set_ylim([0, 100])\n",
        "ax.plot(d, y1, c='green',label=\"mark I\")\n",
        "ax.plot(d, y2, c='brown',label=\"mark II\")\n",
        "ax.legend()\n",
        "plt.axvline(x=10, color='blue', linestyle='--',label=\"ans for days\")\n",
        "_ = plt.axhline(y=40, color='purple', linestyle='--',label=\"energy\")"
      ],
      "metadata": {
        "id": "icoIrPjN7s_r"
      },
      "execution_count": null,
      "outputs": []
    },
    {
      "cell_type": "code",
      "source": [],
      "metadata": {
        "id": "9h84Fnad73Lm"
      },
      "execution_count": null,
      "outputs": []
    }
  ]
}