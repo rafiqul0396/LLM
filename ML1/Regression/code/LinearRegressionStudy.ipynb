{
  "nbformat": 4,
  "nbformat_minor": 0,
  "metadata": {
    "colab": {
      "private_outputs": true,
      "provenance": [],
      "authorship_tag": "ABX9TyNbdAKqgykATqagdWFkIfB+",
      "include_colab_link": true
    },
    "kernelspec": {
      "name": "python3",
      "display_name": "Python 3"
    },
    "language_info": {
      "name": "python"
    }
  },
  "cells": [
    {
      "cell_type": "markdown",
      "metadata": {
        "id": "view-in-github",
        "colab_type": "text"
      },
      "source": [
        "<a href=\"https://colab.research.google.com/github/rafiqul0396/LLM/blob/main/ML1/Regression/code/LinearRegressionStudy.ipynb\" target=\"_parent\"><img src=\"https://colab.research.google.com/assets/colab-badge.svg\" alt=\"Open In Colab\"/></a>"
      ]
    },
    {
      "cell_type": "code",
      "source": [
        "!pip install scikit-image"
      ],
      "metadata": {
        "id": "y_cydkRWF-Sn"
      },
      "execution_count": null,
      "outputs": []
    },
    {
      "cell_type": "code",
      "source": [
        "%matplotlib inline\n",
        "\n",
        "import time\n",
        "import random\n",
        "import datetime\n",
        "import pandas as pd\n",
        "import matplotlib.pyplot as plt\n",
        "import statistics\n",
        "import numpy as np\n",
        "from scipy import stats\n",
        "\n",
        "from sklearn.linear_model import RANSACRegressor, LinearRegression, TheilSenRegressor\n",
        "from sklearn.metrics import explained_variance_score, mean_absolute_error, mean_squared_error, median_absolute_error, r2_score\n",
        "\n",
        "from sklearn.svm import SVR\n",
        "from sklearn.linear_model import Ridge,Lasso,ElasticNet,BayesianRidge\n",
        "from sklearn.ensemble import GradientBoostingRegressor\n",
        "\n",
        "from sklearn.pipeline import Pipeline\n",
        "from sklearn.preprocessing import PolynomialFeatures\n",
        "\n",
        "import seaborn\n",
        "from IPython.display import Image"
      ],
      "metadata": {
        "id": "ZNtSqk5FFsIU"
      },
      "execution_count": null,
      "outputs": []
    },
    {
      "cell_type": "code",
      "execution_count": null,
      "metadata": {
        "id": "kbKPmDDuDcE1"
      },
      "outputs": [],
      "source": [
        "from sklearn import linear_model"
      ]
    },
    {
      "cell_type": "code",
      "source": [
        "data=pd.read_csv(\"/content/concrete_data.csv\")\n",
        "data.head()"
      ],
      "metadata": {
        "id": "llOeGYXnDex4"
      },
      "execution_count": null,
      "outputs": []
    },
    {
      "cell_type": "code",
      "source": [
        "data.shape"
      ],
      "metadata": {
        "id": "dBnHTA_PDrDE"
      },
      "execution_count": null,
      "outputs": []
    },
    {
      "cell_type": "code",
      "source": [
        "data.describe()"
      ],
      "metadata": {
        "id": "Cit1Ib5yDu6I"
      },
      "execution_count": null,
      "outputs": []
    },
    {
      "cell_type": "code",
      "source": [
        "df=data.set_axis(['cement_component', 'furance_slag', 'flay_ash', 'water_component', 'superplasticizer','coarse_aggregate','fine_aggregate','age','concreate_strength'], axis=1)"
      ],
      "metadata": {
        "id": "lq8fr4RlDz31"
      },
      "execution_count": null,
      "outputs": []
    },
    {
      "cell_type": "code",
      "source": [
        "df.head()"
      ],
      "metadata": {
        "id": "jkEVJhvFKGuD"
      },
      "execution_count": null,
      "outputs": []
    },
    {
      "cell_type": "code",
      "source": [
        "plt.figure(figsize=(15,10.5))\n",
        "plot_count=1\n",
        "for features in list(df.columns)[:-1]:\n",
        "    plt.subplot(3,3,plot_count)\n",
        "    plt.scatter(df[features],df['concreate_strength'])\n",
        "    plt.xlabel(features.replace('_',\" \").title())\n",
        "    plt.ylabel(\"concreate_strength\")\n",
        "    plot_count+=1\n",
        "\n",
        "plt.show()"
      ],
      "metadata": {
        "id": "VNY1hd_UKHtf"
      },
      "execution_count": null,
      "outputs": []
    },
    {
      "cell_type": "code",
      "source": [
        "import seaborn as sns\n",
        "import matplotlib.pyplot as plt\n",
        "\n",
        "# Assuming 'df' is your DataFrame containing numerical columns\n",
        "sns.set(style=\"ticks\")  # Set the style\n",
        "\n",
        "# Plot the pairplot\n",
        "sns.pairplot(df)\n",
        "plt.show()\n"
      ],
      "metadata": {
        "id": "Aw5qp_RyM-Yq"
      },
      "execution_count": null,
      "outputs": []
    },
    {
      "cell_type": "code",
      "source": [
        "import seaborn as sns\n",
        "import matplotlib.pyplot as plt\n",
        "\n",
        "def plot_scatter_with_target(df, target_column, feature_columns):\n",
        "    sns.set(style=\"whitegrid\")\n",
        "\n",
        "    num_features = len(feature_columns)\n",
        "    rows = (num_features - 1) // 3 + 1\n",
        "    cols = min(num_features, 3)\n",
        "\n",
        "    plt.figure(figsize=(cols * 5, rows * 3.5))\n",
        "\n",
        "    for i, feature in enumerate(feature_columns):\n",
        "        plt.subplot(rows, cols, i + 1)\n",
        "        sns.scatterplot(x=feature, y=target_column, data=df)\n",
        "        plt.xlabel(feature.replace('_', ' ').title())\n",
        "        plt.ylabel(target_column.replace('_', ' ').title())\n",
        "\n",
        "    plt.tight_layout()\n",
        "    plt.show()\n",
        "\n",
        "# Assuming 'df' is your DataFrame containing the data\n",
        "target_column = 'concreate_strength'\n",
        "feature_columns = [col for col in df.columns if col != target_column]\n",
        "\n",
        "plot_scatter_with_target(df, target_column, feature_columns)\n"
      ],
      "metadata": {
        "id": "rLDICIYJN9d4"
      },
      "execution_count": null,
      "outputs": []
    },
    {
      "cell_type": "code",
      "source": [
        "# Assuming 'df' is your DataFrame\n",
        "correlations = df.corr(method='pearson')\n",
        "print(correlations)\n"
      ],
      "metadata": {
        "id": "9W4k86rROzVR"
      },
      "execution_count": null,
      "outputs": []
    },
    {
      "cell_type": "code",
      "source": [
        "import matplotlib.pyplot as plt\n",
        "import pandas as pd\n",
        "\n",
        "# Assuming 'df' is your DataFrame\n",
        "pd.plotting.scatter_matrix(df, alpha=0.8, figsize=(12, 12), diagonal='hist')\n",
        "plt.show()\n"
      ],
      "metadata": {
        "id": "SaMaOTmvQ7dF"
      },
      "execution_count": null,
      "outputs": []
    },
    {
      "cell_type": "code",
      "source": [
        "data_=df[(df.T!=0).any()]"
      ],
      "metadata": {
        "id": "l1KktFXrTfQu"
      },
      "execution_count": null,
      "outputs": []
    },
    {
      "cell_type": "code",
      "source": [
        "data_"
      ],
      "metadata": {
        "id": "JvLoFspST5PI"
      },
      "execution_count": null,
      "outputs": []
    },
    {
      "cell_type": "code",
      "source": [
        "import seaborn as sns\n",
        "import matplotlib.pyplot as plt\n",
        "\n",
        "# Assuming 'df' is your DataFrame\n",
        "sns.set(style=\"ticks\")  # Set the style\n",
        "\n",
        "# Plot the pair plot\n",
        "sns.pairplot(data_,vars=df.columns,kind='reg')\n",
        "plt.show()\n"
      ],
      "metadata": {
        "id": "B9rXGI8gT7Fu"
      },
      "execution_count": null,
      "outputs": []
    },
    {
      "cell_type": "code",
      "source": [
        "from sklearn import preprocessing"
      ],
      "metadata": {
        "id": "N_gAJnRItL9r"
      },
      "execution_count": null,
      "outputs": []
    },
    {
      "cell_type": "code",
      "source": [
        "X=df['cement_component']\n",
        "Y=df['concreate_strength']\n"
      ],
      "metadata": {
        "id": "GtRER9ZQUW7I"
      },
      "execution_count": null,
      "outputs": []
    },
    {
      "cell_type": "code",
      "source": [
        "X = preprocessing.normalize([X])\n",
        "Y=preprocessing.normalize([Y])"
      ],
      "metadata": {
        "id": "ukpTnXS6tWUD"
      },
      "execution_count": null,
      "outputs": []
    },
    {
      "cell_type": "code",
      "source": [
        "X=X.flatten()"
      ],
      "metadata": {
        "id": "8o2Ca150u5_X"
      },
      "execution_count": null,
      "outputs": []
    },
    {
      "cell_type": "code",
      "source": [
        "Y=Y.flatten()\n"
      ],
      "metadata": {
        "id": "GjCr4ezqu-FJ"
      },
      "execution_count": null,
      "outputs": []
    },
    {
      "cell_type": "code",
      "source": [
        "Y.shape"
      ],
      "metadata": {
        "id": "ucPU85r6vdr_"
      },
      "execution_count": null,
      "outputs": []
    },
    {
      "cell_type": "code",
      "source": [
        "Y"
      ],
      "metadata": {
        "id": "0ZF8yLIuvdaN"
      },
      "execution_count": null,
      "outputs": []
    },
    {
      "cell_type": "code",
      "source": [
        "plt.scatter(X,Y)\n",
        "plt.xlabel(\"cement_compont\")\n",
        "plt.ylabel(\"concreate_strength\")\n",
        "plt.show()"
      ],
      "metadata": {
        "id": "whTHzDqoXPSY"
      },
      "execution_count": null,
      "outputs": []
    },
    {
      "cell_type": "code",
      "source": [
        "from sklearn.model_selection import train_test_split\n",
        "X_train, X_test, y_train, y_test = train_test_split(X, Y, test_size=0.33, random_state=42)"
      ],
      "metadata": {
        "id": "vbEeDhM-XilW"
      },
      "execution_count": null,
      "outputs": []
    },
    {
      "cell_type": "code",
      "source": [
        "X_train=np.array(X_train).reshape(-1,1)\n",
        "X_train[1:4]"
      ],
      "metadata": {
        "id": "EBtCVJtDYxnU"
      },
      "execution_count": null,
      "outputs": []
    },
    {
      "cell_type": "code",
      "source": [
        "X_test=np.array(X_test).reshape(-1,1)\n",
        "X_test[1:4]"
      ],
      "metadata": {
        "id": "UJ2IXLUXZmyS"
      },
      "execution_count": null,
      "outputs": []
    },
    {
      "cell_type": "code",
      "source": [
        "from sklearn.linear_model import LinearRegression\n",
        "lr=LinearRegression()"
      ],
      "metadata": {
        "id": "925KqsbsZ1p5"
      },
      "execution_count": null,
      "outputs": []
    },
    {
      "cell_type": "code",
      "source": [
        "lr.fit(X_train,y_train)"
      ],
      "metadata": {
        "id": "crEdHDjKaR5u"
      },
      "execution_count": null,
      "outputs": []
    },
    {
      "cell_type": "code",
      "source": [
        " c=lr.intercept_\n",
        " c"
      ],
      "metadata": {
        "id": "rE8NtSaXa2Mh"
      },
      "execution_count": null,
      "outputs": []
    },
    {
      "cell_type": "code",
      "source": [
        "m=lr.coef_\n",
        "m"
      ],
      "metadata": {
        "id": "kWqBKpQ4bI2K"
      },
      "execution_count": null,
      "outputs": []
    },
    {
      "cell_type": "code",
      "source": [
        "Y_pre_train=m*X_train+c\n",
        "Y_pre_train.flatten()"
      ],
      "metadata": {
        "id": "xayQybjBbPVC"
      },
      "execution_count": null,
      "outputs": []
    },
    {
      "cell_type": "code",
      "source": [
        "Y_pre_train1=lr.predict(X_train)\n",
        "Y_pre_train1"
      ],
      "metadata": {
        "id": "biN_i6GlcEvI"
      },
      "execution_count": null,
      "outputs": []
    },
    {
      "cell_type": "code",
      "source": [
        "plt.scatter(X_train,y_train)\n",
        "plt.scatter(X_train,Y_pre_train1,color='red')\n",
        "plt.show()"
      ],
      "metadata": {
        "id": "Tyx922ypcbfO"
      },
      "execution_count": null,
      "outputs": []
    },
    {
      "cell_type": "code",
      "source": [
        "Y_pre_test1=lr.predict(X_test)\n",
        "Y_pre_test1"
      ],
      "metadata": {
        "id": "YvF3pHs_dHdc"
      },
      "execution_count": null,
      "outputs": []
    },
    {
      "cell_type": "code",
      "source": [
        "plt.scatter(X_test,y_test)\n",
        "plt.scatter(X_train,Y_pre_train1,color='red')\n",
        "plt.scatter(X_test,Y_pre_test1,color='green')\n",
        "plt.show()"
      ],
      "metadata": {
        "id": "qDD-5VRFeEa-"
      },
      "execution_count": null,
      "outputs": []
    },
    {
      "cell_type": "code",
      "source": [
        "def predict(x, weights):\n",
        "  # y^ = w1.x + w0\n",
        "  y_hat = weights[1]*x + weights[0]\n",
        "  return y_hat"
      ],
      "metadata": {
        "id": "cjhy6s8ceSRd"
      },
      "execution_count": null,
      "outputs": []
    },
    {
      "cell_type": "code",
      "source": [
        "X.shape"
      ],
      "metadata": {
        "id": "Ra1yE66ckb0c"
      },
      "execution_count": null,
      "outputs": []
    },
    {
      "cell_type": "markdown",
      "source": [
        "![image.png](data:image/png;base64,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)"
      ],
      "metadata": {
        "id": "RM5CVeeGlVsf"
      }
    },
    {
      "cell_type": "code",
      "source": [
        "def MSE(X, Y, weights):\n",
        "  '''Implementation of MSE'''\n",
        "  n = X.shape[0] # 1030\n",
        "\n",
        "  total_err = 0.0\n",
        "  for i in range(n): # for n datapoints\n",
        "    y_hat = predict(X[i], weights) # y^ = w1.x + w0\n",
        "    total_err += ( Y[i] - y_hat )**2 #(y-y^)**2\n",
        "\n",
        "  return total_err/n"
      ],
      "metadata": {
        "id": "tDUGt1JDjvtO"
      },
      "execution_count": null,
      "outputs": []
    },
    {
      "cell_type": "markdown",
      "source": [
        "### optimation"
      ],
      "metadata": {
        "id": "FTzsKfYGmJ71"
      }
    },
    {
      "cell_type": "code",
      "source": [
        "def gradient(X, Y, weights):\n",
        "  n = X.shape[0] # 19820\n",
        "  grad = np.zeros((2,))\n",
        "  for i in range(n):\n",
        "    y_hat = predict(X[i], weights)#y^\n",
        "    grad[0] += (y_hat - Y[i])# y^ - dl/dw0\n",
        "    grad[1] += (y_hat - Y[i])*X[i]#(y^ - dl/dw1)*x1\n",
        "\n",
        "  return 2*grad/n #2/n"
      ],
      "metadata": {
        "id": "7oHIg0d_j0Yq"
      },
      "execution_count": null,
      "outputs": []
    },
    {
      "cell_type": "code",
      "source": [
        "weights =  np.random.randn(2,)\n",
        "weights"
      ],
      "metadata": {
        "id": "jf41K4D3pQ0R"
      },
      "execution_count": null,
      "outputs": []
    },
    {
      "cell_type": "code",
      "source": [
        "def gradient_descent(X, Y, n_itr = 1000, eta = 0.1):\n",
        "  weights =  np.random.randn(2,)\n",
        "  error_list = []\n",
        "  for i in range(n_itr):\n",
        "    e = MSE(X,Y, weights)\n",
        "    error_list.append(e)\n",
        "    grad = gradient(X, Y, weights)\n",
        "    weights[0] = weights[0] - eta*grad[0] #w0 -eta*dl/dw0\n",
        "    weights[1] = weights[1] - eta*grad[1] # w1 -eta*dl/dw1\n",
        "  return weights.round(2), error_list"
      ],
      "metadata": {
        "id": "vOV55bOOj8_r"
      },
      "execution_count": null,
      "outputs": []
    },
    {
      "cell_type": "code",
      "source": [
        "opt_weights, error_list = gradient_descent(X, Y)\n",
        "opt_weights"
      ],
      "metadata": {
        "id": "QBjDT8P4kJmk"
      },
      "execution_count": null,
      "outputs": []
    },
    {
      "cell_type": "code",
      "source": [
        "plt.plot(error_list)\n"
      ],
      "metadata": {
        "id": "cEAukYd5sJ4_"
      },
      "execution_count": null,
      "outputs": []
    },
    {
      "cell_type": "code",
      "source": [
        "plt.scatter(X, Y)\n",
        "plt.xlabel(\"Model\")\n",
        "plt.ylabel(\"Price\")\n",
        "plt.plot([0.0, 0.050], [0.02, 0.042], c ='red')\n",
        "plt.show()"
      ],
      "metadata": {
        "id": "nvsL-LAIvxsG"
      },
      "execution_count": null,
      "outputs": []
    },
    {
      "cell_type": "code",
      "source": [
        "print(predict(0, opt_weights))\n",
        "print(predict(0.050, opt_weights))"
      ],
      "metadata": {
        "id": "8GjKIbMqwCmX"
      },
      "execution_count": null,
      "outputs": []
    },
    {
      "cell_type": "code",
      "source": [],
      "metadata": {
        "id": "L6kK1hGWxEAp"
      },
      "execution_count": null,
      "outputs": []
    }
  ]
}