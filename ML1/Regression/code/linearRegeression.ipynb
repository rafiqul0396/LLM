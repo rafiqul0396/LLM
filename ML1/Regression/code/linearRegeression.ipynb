{
  "nbformat": 4,
  "nbformat_minor": 0,
  "metadata": {
    "colab": {
      "private_outputs": true,
      "provenance": [],
      "authorship_tag": "ABX9TyOqw4MuCTz0tp4xsg5MK861",
      "include_colab_link": true
    },
    "kernelspec": {
      "name": "python3",
      "display_name": "Python 3"
    },
    "language_info": {
      "name": "python"
    }
  },
  "cells": [
    {
      "cell_type": "markdown",
      "metadata": {
        "id": "view-in-github",
        "colab_type": "text"
      },
      "source": [
        "<a href=\"https://colab.research.google.com/github/rafiqul0396/LLM/blob/main/ML1/Regression/code/linearRegeression.ipynb\" target=\"_parent\"><img src=\"https://colab.research.google.com/assets/colab-badge.svg\" alt=\"Open In Colab\"/></a>"
      ]
    },
    {
      "cell_type": "code",
      "execution_count": null,
      "metadata": {
        "id": "LFKuT4TOX_Vx"
      },
      "outputs": [],
      "source": [
        "import numpy as np\n",
        "import pandas as pd\n",
        "import matplotlib.pyplot as plt\n"
      ]
    },
    {
      "cell_type": "code",
      "source": [
        "df=pd.read_csv(\"/content/cars24-car-price-clean.csv\")\n",
        "df.head()"
      ],
      "metadata": {
        "id": "-9WyT4jzYb2Z"
      },
      "execution_count": null,
      "outputs": []
    },
    {
      "cell_type": "code",
      "source": [
        "df.shape"
      ],
      "metadata": {
        "id": "H1q_wX3NYvl8"
      },
      "execution_count": null,
      "outputs": []
    },
    {
      "cell_type": "code",
      "source": [
        "X=df['model'].values\n",
        "Y=df['selling_price'].values"
      ],
      "metadata": {
        "id": "igmfP4wEY3o4"
      },
      "execution_count": null,
      "outputs": []
    },
    {
      "cell_type": "code",
      "source": [
        "X"
      ],
      "metadata": {
        "id": "7MM-hcx1cza-"
      },
      "execution_count": null,
      "outputs": []
    },
    {
      "cell_type": "code",
      "source": [
        "Y"
      ],
      "metadata": {
        "id": "1sDsXQN9c0n5"
      },
      "execution_count": null,
      "outputs": []
    },
    {
      "cell_type": "code",
      "source": [
        "plt.scatter(X,Y)\n",
        "plt.xlabel(\"model\")\n",
        "plt.ylabel(\"price\")\n",
        "plt.show()"
      ],
      "metadata": {
        "id": "VnsGVAgtc2dC"
      },
      "execution_count": null,
      "outputs": []
    },
    {
      "cell_type": "code",
      "source": [
        "def predict(x,weights):\n",
        "    y_hat=weights[1]*x+weights[0]\n",
        "    return y_hat"
      ],
      "metadata": {
        "id": "CLPU_uZCdL43"
      },
      "execution_count": null,
      "outputs": []
    },
    {
      "cell_type": "code",
      "source": [
        "def error(X,Y,weights):\n",
        "    n=X.shape[0]\n",
        "    total_error=0.0\n",
        "    for i in range(n):\n",
        "        y_hat=predict(X[i],weights)\n",
        "        total_error+=(Y[i] - y_hat)**2\n",
        "    return total_error/n"
      ],
      "metadata": {
        "id": "Dt2W1MVZCqjw"
      },
      "execution_count": null,
      "outputs": []
    },
    {
      "cell_type": "code",
      "source": [
        "def gradient(X, Y, weights):\n",
        "  n = X.shape[0] # 19820\n",
        "  grad = np.zeros((2,))\n",
        "  for i in range(n):\n",
        "    y_hat = predict(X[i], weights)\n",
        "    grad[0] += (y_hat - Y[i])\n",
        "    grad[1] += (y_hat - Y[i])*X[i]\n",
        "\n",
        "  return 2*grad/n\n",
        "\n"
      ],
      "metadata": {
        "id": "yqCp3n0pHVzw"
      },
      "execution_count": null,
      "outputs": []
    },
    {
      "cell_type": "code",
      "source": [
        "def gradient_descent(X,Y,n_itr=100,eta=0.1):\n",
        "    weights=np.random.randn(2,)\n",
        "    error_list = []\n",
        "    for i in range(n_itr):\n",
        "        e = error(X,Y, weights)\n",
        "        error_list.append(e)\n",
        "\n",
        "        grad = gradient(X, Y, weights)\n",
        "\n",
        "        weights[0]=weights[0]-eta* grad[0]\n",
        "        weights[1]=weights[1]-eta*grad[1]\n",
        "    return weights.round(2), error_list\n"
      ],
      "metadata": {
        "id": "T_L4snFOEC4K"
      },
      "execution_count": null,
      "outputs": []
    },
    {
      "cell_type": "code",
      "source": [
        "opt_weights, error_list = gradient_descent(X, Y)"
      ],
      "metadata": {
        "id": "CiOChFu0HF4P"
      },
      "execution_count": null,
      "outputs": []
    },
    {
      "cell_type": "code",
      "source": [
        "opt_weights"
      ],
      "metadata": {
        "id": "7j984aO3K-zD"
      },
      "execution_count": null,
      "outputs": []
    },
    {
      "cell_type": "code",
      "source": [
        "error_list"
      ],
      "metadata": {
        "id": "I24hdygoLog2"
      },
      "execution_count": null,
      "outputs": []
    },
    {
      "cell_type": "code",
      "source": [
        "plt.plot(error_list)\n"
      ],
      "metadata": {
        "id": "-dozqJMoLT5J"
      },
      "execution_count": null,
      "outputs": []
    },
    {
      "cell_type": "code",
      "source": [
        "x_new = np.array([-1, 3])\n",
        "predict(-1, opt_weights)\n",
        "predict(3, opt_weights)"
      ],
      "metadata": {
        "id": "GLhFy_KTLiQg"
      },
      "execution_count": null,
      "outputs": []
    },
    {
      "cell_type": "code",
      "source": [
        "plt.scatter(X, Y)\n",
        "plt.xlabel(\"Model\")\n",
        "plt.ylabel(\"Price\")\n",
        "plt.plot([-1, 3], [-0.97, 2.91], c ='red')\n",
        "plt.show()"
      ],
      "metadata": {
        "id": "FDJYsneOOIMN"
      },
      "execution_count": null,
      "outputs": []
    },
    {
      "cell_type": "code",
      "source": [],
      "metadata": {
        "id": "Aszy_QlsOMp_"
      },
      "execution_count": null,
      "outputs": []
    }
  ]
}