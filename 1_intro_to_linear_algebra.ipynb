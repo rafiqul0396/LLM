{
  "nbformat": 4,
  "nbformat_minor": 0,
  "metadata": {
    "colab": {
      "provenance": [],
      "include_colab_link": true
    },
    "kernelspec": {
      "display_name": "Python 3",
      "language": "python",
      "name": "python3"
    },
    "language_info": {
      "codemirror_mode": {
        "name": "ipython",
        "version": 3
      },
      "file_extension": ".py",
      "mimetype": "text/x-python",
      "name": "python",
      "nbconvert_exporter": "python",
      "pygments_lexer": "ipython3",
      "version": "3.7.6"
    }
  },
  "cells": [
    {
      "cell_type": "markdown",
      "metadata": {
        "id": "view-in-github",
        "colab_type": "text"
      },
      "source": [
        "<a href=\"https://colab.research.google.com/github/rafiqul0396/LLM/blob/main/1_intro_to_linear_algebra.ipynb\" target=\"_parent\"><img src=\"https://colab.research.google.com/assets/colab-badge.svg\" alt=\"Open In Colab\"/></a>"
      ]
    },
    {
      "cell_type": "markdown",
      "metadata": {
        "id": "aTOLgsbN69-P"
      },
      "source": [
        "# Intro to Linear Algebra"
      ]
    },
    {
      "cell_type": "markdown",
      "metadata": {
        "id": "yqUB9FTRAxd-"
      },
      "source": [
        "This topic, *Intro to Linear Algebra*, is the first in the *Machine Learning Foundations* series.\n",
        "\n",
        "It is essential because linear algebra lies at the heart of most machine learning approaches and is especially predominant in deep learning, the branch of ML at the forefront of today’s artificial intelligence advances. Through the measured exposition of theory paired with interactive examples, you’ll develop an understanding of how linear algebra is used to solve for unknown values in high-dimensional spaces, thereby enabling machines to recognize patterns and make predictions.\n",
        "\n",
        "The content covered in *Intro to Linear Algebra* is itself foundational for all the other topics in the Machine Learning Foundations series and it is especially relevant to *Linear Algebra II*."
      ]
    },
    {
      "cell_type": "markdown",
      "metadata": {
        "id": "d4tBvI88BheF"
      },
      "source": [
        "Over the course of studying this topic, you'll:\n",
        "\n",
        "* Understand the fundamentals of linear algebra, a ubiquitous approach for solving for unknowns within high-dimensional spaces.\n",
        "\n",
        "* Develop a geometric intuition of what’s going on beneath the hood of machine learning algorithms, including those used for deep learning.\n",
        "* Be able to more intimately grasp the details of machine learning papers as well as all of the other subjects that underlie ML, including calculus, statistics, and optimization algorithms."
      ]
    },
    {
      "cell_type": "markdown",
      "metadata": {
        "id": "Z68nQ0ekCYhF"
      },
      "source": [
        "**Note that this Jupyter notebook is not intended to stand alone. It is the companion code to a lecture or to videos from Jon Krohn's [Machine Learning Foundations](https://github.com/jonkrohn/ML-foundations) series, which offer detail on the following:**\n",
        "\n",
        "*Segment 1: Data Structures for Algebra*\n",
        "\n",
        "* What Linear Algebra Is  \n",
        "* A Brief History of Algebra\n",
        "* Tensors\n",
        "* Scalars\n",
        "* Vectors and Vector Transposition\n",
        "* Norms and Unit Vectors\n",
        "* Basis, Orthogonal, and Orthonormal Vectors\n",
        "* Arrays in NumPy  \n",
        "* Matrices\n",
        "* Tensors in TensorFlow and PyTorch\n",
        "\n",
        "*Segment 2: Common Tensor Operations*\n",
        "\n",
        "* Tensor Transposition\n",
        "* Basic Tensor Arithmetic\n",
        "* Reduction\n",
        "* The Dot Product\n",
        "* Solving Linear Systems\n",
        "\n",
        "*Segment 3: Matrix Properties*\n",
        "\n",
        "* The Frobenius Norm\n",
        "* Matrix Multiplication\n",
        "* Symmetric and Identity Matrices\n",
        "* Matrix Inversion\n",
        "* Diagonal Matrices\n",
        "* Orthogonal Matrices\n"
      ]
    },
    {
      "cell_type": "markdown",
      "metadata": {
        "id": "2khww76J5w9n"
      },
      "source": [
        "## Segment 1: Data Structures for Algebra\n",
        "\n",
        "**Slides used to begin segment, with focus on introducing what linear algebra is, including hands-on paper and pencil exercises.**"
      ]
    },
    {
      "cell_type": "markdown",
      "metadata": {
        "id": "niG_MgK-iV6K"
      },
      "source": [
        "### What Linear Algebra Is"
      ]
    },
    {
      "cell_type": "code",
      "metadata": {
        "id": "LApX90aliab_"
      },
      "source": [
        "import numpy as np\n",
        "import matplotlib.pyplot as plt"
      ],
      "execution_count": 25,
      "outputs": []
    },
    {
      "cell_type": "code",
      "metadata": {
        "id": "E4odh9Shic1S",
        "colab": {
          "base_uri": "https://localhost:8080/"
        },
        "outputId": "bd7fa8b2-79e5-473c-9cb3-633a813e4ac5"
      },
      "source": [
        "t = np.linspace(0, 40, 1000) # start, finish, n points\n",
        "t"
      ],
      "execution_count": null,
      "outputs": [
        {
          "output_type": "execute_result",
          "data": {
            "text/plain": [
              "array([ 0.        ,  0.04004004,  0.08008008,  0.12012012,  0.16016016,\n",
              "        0.2002002 ,  0.24024024,  0.28028028,  0.32032032,  0.36036036,\n",
              "        0.4004004 ,  0.44044044,  0.48048048,  0.52052052,  0.56056056,\n",
              "        0.6006006 ,  0.64064064,  0.68068068,  0.72072072,  0.76076076,\n",
              "        0.8008008 ,  0.84084084,  0.88088088,  0.92092092,  0.96096096,\n",
              "        1.001001  ,  1.04104104,  1.08108108,  1.12112112,  1.16116116,\n",
              "        1.2012012 ,  1.24124124,  1.28128128,  1.32132132,  1.36136136,\n",
              "        1.4014014 ,  1.44144144,  1.48148148,  1.52152152,  1.56156156,\n",
              "        1.6016016 ,  1.64164164,  1.68168168,  1.72172172,  1.76176176,\n",
              "        1.8018018 ,  1.84184184,  1.88188188,  1.92192192,  1.96196196,\n",
              "        2.002002  ,  2.04204204,  2.08208208,  2.12212212,  2.16216216,\n",
              "        2.2022022 ,  2.24224224,  2.28228228,  2.32232232,  2.36236236,\n",
              "        2.4024024 ,  2.44244244,  2.48248248,  2.52252252,  2.56256256,\n",
              "        2.6026026 ,  2.64264264,  2.68268268,  2.72272272,  2.76276276,\n",
              "        2.8028028 ,  2.84284284,  2.88288288,  2.92292292,  2.96296296,\n",
              "        3.003003  ,  3.04304304,  3.08308308,  3.12312312,  3.16316316,\n",
              "        3.2032032 ,  3.24324324,  3.28328328,  3.32332332,  3.36336336,\n",
              "        3.4034034 ,  3.44344344,  3.48348348,  3.52352352,  3.56356356,\n",
              "        3.6036036 ,  3.64364364,  3.68368368,  3.72372372,  3.76376376,\n",
              "        3.8038038 ,  3.84384384,  3.88388388,  3.92392392,  3.96396396,\n",
              "        4.004004  ,  4.04404404,  4.08408408,  4.12412412,  4.16416416,\n",
              "        4.2042042 ,  4.24424424,  4.28428428,  4.32432432,  4.36436436,\n",
              "        4.4044044 ,  4.44444444,  4.48448448,  4.52452452,  4.56456456,\n",
              "        4.6046046 ,  4.64464464,  4.68468468,  4.72472472,  4.76476476,\n",
              "        4.8048048 ,  4.84484484,  4.88488488,  4.92492492,  4.96496496,\n",
              "        5.00500501,  5.04504505,  5.08508509,  5.12512513,  5.16516517,\n",
              "        5.20520521,  5.24524525,  5.28528529,  5.32532533,  5.36536537,\n",
              "        5.40540541,  5.44544545,  5.48548549,  5.52552553,  5.56556557,\n",
              "        5.60560561,  5.64564565,  5.68568569,  5.72572573,  5.76576577,\n",
              "        5.80580581,  5.84584585,  5.88588589,  5.92592593,  5.96596597,\n",
              "        6.00600601,  6.04604605,  6.08608609,  6.12612613,  6.16616617,\n",
              "        6.20620621,  6.24624625,  6.28628629,  6.32632633,  6.36636637,\n",
              "        6.40640641,  6.44644645,  6.48648649,  6.52652653,  6.56656657,\n",
              "        6.60660661,  6.64664665,  6.68668669,  6.72672673,  6.76676677,\n",
              "        6.80680681,  6.84684685,  6.88688689,  6.92692693,  6.96696697,\n",
              "        7.00700701,  7.04704705,  7.08708709,  7.12712713,  7.16716717,\n",
              "        7.20720721,  7.24724725,  7.28728729,  7.32732733,  7.36736737,\n",
              "        7.40740741,  7.44744745,  7.48748749,  7.52752753,  7.56756757,\n",
              "        7.60760761,  7.64764765,  7.68768769,  7.72772773,  7.76776777,\n",
              "        7.80780781,  7.84784785,  7.88788789,  7.92792793,  7.96796797,\n",
              "        8.00800801,  8.04804805,  8.08808809,  8.12812813,  8.16816817,\n",
              "        8.20820821,  8.24824825,  8.28828829,  8.32832833,  8.36836837,\n",
              "        8.40840841,  8.44844845,  8.48848849,  8.52852853,  8.56856857,\n",
              "        8.60860861,  8.64864865,  8.68868869,  8.72872873,  8.76876877,\n",
              "        8.80880881,  8.84884885,  8.88888889,  8.92892893,  8.96896897,\n",
              "        9.00900901,  9.04904905,  9.08908909,  9.12912913,  9.16916917,\n",
              "        9.20920921,  9.24924925,  9.28928929,  9.32932933,  9.36936937,\n",
              "        9.40940941,  9.44944945,  9.48948949,  9.52952953,  9.56956957,\n",
              "        9.60960961,  9.64964965,  9.68968969,  9.72972973,  9.76976977,\n",
              "        9.80980981,  9.84984985,  9.88988989,  9.92992993,  9.96996997,\n",
              "       10.01001001, 10.05005005, 10.09009009, 10.13013013, 10.17017017,\n",
              "       10.21021021, 10.25025025, 10.29029029, 10.33033033, 10.37037037,\n",
              "       10.41041041, 10.45045045, 10.49049049, 10.53053053, 10.57057057,\n",
              "       10.61061061, 10.65065065, 10.69069069, 10.73073073, 10.77077077,\n",
              "       10.81081081, 10.85085085, 10.89089089, 10.93093093, 10.97097097,\n",
              "       11.01101101, 11.05105105, 11.09109109, 11.13113113, 11.17117117,\n",
              "       11.21121121, 11.25125125, 11.29129129, 11.33133133, 11.37137137,\n",
              "       11.41141141, 11.45145145, 11.49149149, 11.53153153, 11.57157157,\n",
              "       11.61161161, 11.65165165, 11.69169169, 11.73173173, 11.77177177,\n",
              "       11.81181181, 11.85185185, 11.89189189, 11.93193193, 11.97197197,\n",
              "       12.01201201, 12.05205205, 12.09209209, 12.13213213, 12.17217217,\n",
              "       12.21221221, 12.25225225, 12.29229229, 12.33233233, 12.37237237,\n",
              "       12.41241241, 12.45245245, 12.49249249, 12.53253253, 12.57257257,\n",
              "       12.61261261, 12.65265265, 12.69269269, 12.73273273, 12.77277277,\n",
              "       12.81281281, 12.85285285, 12.89289289, 12.93293293, 12.97297297,\n",
              "       13.01301301, 13.05305305, 13.09309309, 13.13313313, 13.17317317,\n",
              "       13.21321321, 13.25325325, 13.29329329, 13.33333333, 13.37337337,\n",
              "       13.41341341, 13.45345345, 13.49349349, 13.53353353, 13.57357357,\n",
              "       13.61361361, 13.65365365, 13.69369369, 13.73373373, 13.77377377,\n",
              "       13.81381381, 13.85385385, 13.89389389, 13.93393393, 13.97397397,\n",
              "       14.01401401, 14.05405405, 14.09409409, 14.13413413, 14.17417417,\n",
              "       14.21421421, 14.25425425, 14.29429429, 14.33433433, 14.37437437,\n",
              "       14.41441441, 14.45445445, 14.49449449, 14.53453453, 14.57457457,\n",
              "       14.61461461, 14.65465465, 14.69469469, 14.73473473, 14.77477477,\n",
              "       14.81481481, 14.85485485, 14.89489489, 14.93493493, 14.97497497,\n",
              "       15.01501502, 15.05505506, 15.0950951 , 15.13513514, 15.17517518,\n",
              "       15.21521522, 15.25525526, 15.2952953 , 15.33533534, 15.37537538,\n",
              "       15.41541542, 15.45545546, 15.4954955 , 15.53553554, 15.57557558,\n",
              "       15.61561562, 15.65565566, 15.6956957 , 15.73573574, 15.77577578,\n",
              "       15.81581582, 15.85585586, 15.8958959 , 15.93593594, 15.97597598,\n",
              "       16.01601602, 16.05605606, 16.0960961 , 16.13613614, 16.17617618,\n",
              "       16.21621622, 16.25625626, 16.2962963 , 16.33633634, 16.37637638,\n",
              "       16.41641642, 16.45645646, 16.4964965 , 16.53653654, 16.57657658,\n",
              "       16.61661662, 16.65665666, 16.6966967 , 16.73673674, 16.77677678,\n",
              "       16.81681682, 16.85685686, 16.8968969 , 16.93693694, 16.97697698,\n",
              "       17.01701702, 17.05705706, 17.0970971 , 17.13713714, 17.17717718,\n",
              "       17.21721722, 17.25725726, 17.2972973 , 17.33733734, 17.37737738,\n",
              "       17.41741742, 17.45745746, 17.4974975 , 17.53753754, 17.57757758,\n",
              "       17.61761762, 17.65765766, 17.6976977 , 17.73773774, 17.77777778,\n",
              "       17.81781782, 17.85785786, 17.8978979 , 17.93793794, 17.97797798,\n",
              "       18.01801802, 18.05805806, 18.0980981 , 18.13813814, 18.17817818,\n",
              "       18.21821822, 18.25825826, 18.2982983 , 18.33833834, 18.37837838,\n",
              "       18.41841842, 18.45845846, 18.4984985 , 18.53853854, 18.57857858,\n",
              "       18.61861862, 18.65865866, 18.6986987 , 18.73873874, 18.77877878,\n",
              "       18.81881882, 18.85885886, 18.8988989 , 18.93893894, 18.97897898,\n",
              "       19.01901902, 19.05905906, 19.0990991 , 19.13913914, 19.17917918,\n",
              "       19.21921922, 19.25925926, 19.2992993 , 19.33933934, 19.37937938,\n",
              "       19.41941942, 19.45945946, 19.4994995 , 19.53953954, 19.57957958,\n",
              "       19.61961962, 19.65965966, 19.6996997 , 19.73973974, 19.77977978,\n",
              "       19.81981982, 19.85985986, 19.8998999 , 19.93993994, 19.97997998,\n",
              "       20.02002002, 20.06006006, 20.1001001 , 20.14014014, 20.18018018,\n",
              "       20.22022022, 20.26026026, 20.3003003 , 20.34034034, 20.38038038,\n",
              "       20.42042042, 20.46046046, 20.5005005 , 20.54054054, 20.58058058,\n",
              "       20.62062062, 20.66066066, 20.7007007 , 20.74074074, 20.78078078,\n",
              "       20.82082082, 20.86086086, 20.9009009 , 20.94094094, 20.98098098,\n",
              "       21.02102102, 21.06106106, 21.1011011 , 21.14114114, 21.18118118,\n",
              "       21.22122122, 21.26126126, 21.3013013 , 21.34134134, 21.38138138,\n",
              "       21.42142142, 21.46146146, 21.5015015 , 21.54154154, 21.58158158,\n",
              "       21.62162162, 21.66166166, 21.7017017 , 21.74174174, 21.78178178,\n",
              "       21.82182182, 21.86186186, 21.9019019 , 21.94194194, 21.98198198,\n",
              "       22.02202202, 22.06206206, 22.1021021 , 22.14214214, 22.18218218,\n",
              "       22.22222222, 22.26226226, 22.3023023 , 22.34234234, 22.38238238,\n",
              "       22.42242242, 22.46246246, 22.5025025 , 22.54254254, 22.58258258,\n",
              "       22.62262262, 22.66266266, 22.7027027 , 22.74274274, 22.78278278,\n",
              "       22.82282282, 22.86286286, 22.9029029 , 22.94294294, 22.98298298,\n",
              "       23.02302302, 23.06306306, 23.1031031 , 23.14314314, 23.18318318,\n",
              "       23.22322322, 23.26326326, 23.3033033 , 23.34334334, 23.38338338,\n",
              "       23.42342342, 23.46346346, 23.5035035 , 23.54354354, 23.58358358,\n",
              "       23.62362362, 23.66366366, 23.7037037 , 23.74374374, 23.78378378,\n",
              "       23.82382382, 23.86386386, 23.9039039 , 23.94394394, 23.98398398,\n",
              "       24.02402402, 24.06406406, 24.1041041 , 24.14414414, 24.18418418,\n",
              "       24.22422422, 24.26426426, 24.3043043 , 24.34434434, 24.38438438,\n",
              "       24.42442442, 24.46446446, 24.5045045 , 24.54454454, 24.58458458,\n",
              "       24.62462462, 24.66466466, 24.7047047 , 24.74474474, 24.78478478,\n",
              "       24.82482482, 24.86486486, 24.9049049 , 24.94494494, 24.98498498,\n",
              "       25.02502503, 25.06506507, 25.10510511, 25.14514515, 25.18518519,\n",
              "       25.22522523, 25.26526527, 25.30530531, 25.34534535, 25.38538539,\n",
              "       25.42542543, 25.46546547, 25.50550551, 25.54554555, 25.58558559,\n",
              "       25.62562563, 25.66566567, 25.70570571, 25.74574575, 25.78578579,\n",
              "       25.82582583, 25.86586587, 25.90590591, 25.94594595, 25.98598599,\n",
              "       26.02602603, 26.06606607, 26.10610611, 26.14614615, 26.18618619,\n",
              "       26.22622623, 26.26626627, 26.30630631, 26.34634635, 26.38638639,\n",
              "       26.42642643, 26.46646647, 26.50650651, 26.54654655, 26.58658659,\n",
              "       26.62662663, 26.66666667, 26.70670671, 26.74674675, 26.78678679,\n",
              "       26.82682683, 26.86686687, 26.90690691, 26.94694695, 26.98698699,\n",
              "       27.02702703, 27.06706707, 27.10710711, 27.14714715, 27.18718719,\n",
              "       27.22722723, 27.26726727, 27.30730731, 27.34734735, 27.38738739,\n",
              "       27.42742743, 27.46746747, 27.50750751, 27.54754755, 27.58758759,\n",
              "       27.62762763, 27.66766767, 27.70770771, 27.74774775, 27.78778779,\n",
              "       27.82782783, 27.86786787, 27.90790791, 27.94794795, 27.98798799,\n",
              "       28.02802803, 28.06806807, 28.10810811, 28.14814815, 28.18818819,\n",
              "       28.22822823, 28.26826827, 28.30830831, 28.34834835, 28.38838839,\n",
              "       28.42842843, 28.46846847, 28.50850851, 28.54854855, 28.58858859,\n",
              "       28.62862863, 28.66866867, 28.70870871, 28.74874875, 28.78878879,\n",
              "       28.82882883, 28.86886887, 28.90890891, 28.94894895, 28.98898899,\n",
              "       29.02902903, 29.06906907, 29.10910911, 29.14914915, 29.18918919,\n",
              "       29.22922923, 29.26926927, 29.30930931, 29.34934935, 29.38938939,\n",
              "       29.42942943, 29.46946947, 29.50950951, 29.54954955, 29.58958959,\n",
              "       29.62962963, 29.66966967, 29.70970971, 29.74974975, 29.78978979,\n",
              "       29.82982983, 29.86986987, 29.90990991, 29.94994995, 29.98998999,\n",
              "       30.03003003, 30.07007007, 30.11011011, 30.15015015, 30.19019019,\n",
              "       30.23023023, 30.27027027, 30.31031031, 30.35035035, 30.39039039,\n",
              "       30.43043043, 30.47047047, 30.51051051, 30.55055055, 30.59059059,\n",
              "       30.63063063, 30.67067067, 30.71071071, 30.75075075, 30.79079079,\n",
              "       30.83083083, 30.87087087, 30.91091091, 30.95095095, 30.99099099,\n",
              "       31.03103103, 31.07107107, 31.11111111, 31.15115115, 31.19119119,\n",
              "       31.23123123, 31.27127127, 31.31131131, 31.35135135, 31.39139139,\n",
              "       31.43143143, 31.47147147, 31.51151151, 31.55155155, 31.59159159,\n",
              "       31.63163163, 31.67167167, 31.71171171, 31.75175175, 31.79179179,\n",
              "       31.83183183, 31.87187187, 31.91191191, 31.95195195, 31.99199199,\n",
              "       32.03203203, 32.07207207, 32.11211211, 32.15215215, 32.19219219,\n",
              "       32.23223223, 32.27227227, 32.31231231, 32.35235235, 32.39239239,\n",
              "       32.43243243, 32.47247247, 32.51251251, 32.55255255, 32.59259259,\n",
              "       32.63263263, 32.67267267, 32.71271271, 32.75275275, 32.79279279,\n",
              "       32.83283283, 32.87287287, 32.91291291, 32.95295295, 32.99299299,\n",
              "       33.03303303, 33.07307307, 33.11311311, 33.15315315, 33.19319319,\n",
              "       33.23323323, 33.27327327, 33.31331331, 33.35335335, 33.39339339,\n",
              "       33.43343343, 33.47347347, 33.51351351, 33.55355355, 33.59359359,\n",
              "       33.63363363, 33.67367367, 33.71371371, 33.75375375, 33.79379379,\n",
              "       33.83383383, 33.87387387, 33.91391391, 33.95395395, 33.99399399,\n",
              "       34.03403403, 34.07407407, 34.11411411, 34.15415415, 34.19419419,\n",
              "       34.23423423, 34.27427427, 34.31431431, 34.35435435, 34.39439439,\n",
              "       34.43443443, 34.47447447, 34.51451451, 34.55455455, 34.59459459,\n",
              "       34.63463463, 34.67467467, 34.71471471, 34.75475475, 34.79479479,\n",
              "       34.83483483, 34.87487487, 34.91491491, 34.95495495, 34.99499499,\n",
              "       35.03503504, 35.07507508, 35.11511512, 35.15515516, 35.1951952 ,\n",
              "       35.23523524, 35.27527528, 35.31531532, 35.35535536, 35.3953954 ,\n",
              "       35.43543544, 35.47547548, 35.51551552, 35.55555556, 35.5955956 ,\n",
              "       35.63563564, 35.67567568, 35.71571572, 35.75575576, 35.7957958 ,\n",
              "       35.83583584, 35.87587588, 35.91591592, 35.95595596, 35.995996  ,\n",
              "       36.03603604, 36.07607608, 36.11611612, 36.15615616, 36.1961962 ,\n",
              "       36.23623624, 36.27627628, 36.31631632, 36.35635636, 36.3963964 ,\n",
              "       36.43643644, 36.47647648, 36.51651652, 36.55655656, 36.5965966 ,\n",
              "       36.63663664, 36.67667668, 36.71671672, 36.75675676, 36.7967968 ,\n",
              "       36.83683684, 36.87687688, 36.91691692, 36.95695696, 36.996997  ,\n",
              "       37.03703704, 37.07707708, 37.11711712, 37.15715716, 37.1971972 ,\n",
              "       37.23723724, 37.27727728, 37.31731732, 37.35735736, 37.3973974 ,\n",
              "       37.43743744, 37.47747748, 37.51751752, 37.55755756, 37.5975976 ,\n",
              "       37.63763764, 37.67767768, 37.71771772, 37.75775776, 37.7977978 ,\n",
              "       37.83783784, 37.87787788, 37.91791792, 37.95795796, 37.997998  ,\n",
              "       38.03803804, 38.07807808, 38.11811812, 38.15815816, 38.1981982 ,\n",
              "       38.23823824, 38.27827828, 38.31831832, 38.35835836, 38.3983984 ,\n",
              "       38.43843844, 38.47847848, 38.51851852, 38.55855856, 38.5985986 ,\n",
              "       38.63863864, 38.67867868, 38.71871872, 38.75875876, 38.7987988 ,\n",
              "       38.83883884, 38.87887888, 38.91891892, 38.95895896, 38.998999  ,\n",
              "       39.03903904, 39.07907908, 39.11911912, 39.15915916, 39.1991992 ,\n",
              "       39.23923924, 39.27927928, 39.31931932, 39.35935936, 39.3993994 ,\n",
              "       39.43943944, 39.47947948, 39.51951952, 39.55955956, 39.5995996 ,\n",
              "       39.63963964, 39.67967968, 39.71971972, 39.75975976, 39.7997998 ,\n",
              "       39.83983984, 39.87987988, 39.91991992, 39.95995996, 40.        ])"
            ]
          },
          "metadata": {},
          "execution_count": 5
        }
      ]
    },
    {
      "cell_type": "markdown",
      "metadata": {
        "id": "N-tYny12nIyO"
      },
      "source": [
        "Distance travelled by robber: $d = 2.5t$"
      ]
    },
    {
      "cell_type": "code",
      "metadata": {
        "id": "e_zDOxgHiezz",
        "colab": {
          "base_uri": "https://localhost:8080/",
          "height": 175
        },
        "outputId": "b31f4c61-4cd3-47e7-86f3-6ed4fb603557"
      },
      "source": [
        "d_r = 2.5 * t"
      ],
      "execution_count": 1,
      "outputs": [
        {
          "output_type": "error",
          "ename": "NameError",
          "evalue": "ignored",
          "traceback": [
            "\u001b[0;31m---------------------------------------------------------------------------\u001b[0m",
            "\u001b[0;31mNameError\u001b[0m                                 Traceback (most recent call last)",
            "\u001b[0;32m<ipython-input-1-5c1c48d703f2>\u001b[0m in \u001b[0;36m<cell line: 1>\u001b[0;34m()\u001b[0m\n\u001b[0;32m----> 1\u001b[0;31m \u001b[0md_r\u001b[0m \u001b[0;34m=\u001b[0m \u001b[0;36m2.5\u001b[0m \u001b[0;34m*\u001b[0m \u001b[0mt\u001b[0m\u001b[0;34m\u001b[0m\u001b[0;34m\u001b[0m\u001b[0m\n\u001b[0m",
            "\u001b[0;31mNameError\u001b[0m: name 't' is not defined"
          ]
        }
      ]
    },
    {
      "cell_type": "markdown",
      "metadata": {
        "id": "djVjXZy-nPaR"
      },
      "source": [
        "Distance travelled by sheriff: $d = 3(t-5)$"
      ]
    },
    {
      "cell_type": "code",
      "metadata": {
        "id": "JtaNeYSCifrI"
      },
      "source": [
        "d_s = 3 * (t-5)"
      ],
      "execution_count": null,
      "outputs": []
    },
    {
      "cell_type": "code",
      "metadata": {
        "id": "SaaIjJSEigic",
        "colab": {
          "base_uri": "https://localhost:8080/",
          "height": 472
        },
        "outputId": "9aa15b42-af57-4e2a-980d-a8580ab3a060"
      },
      "source": [
        "fig, ax = plt.subplots()\n",
        "plt.title('A Bank Robber Caught')\n",
        "plt.xlabel('time (in minutes)')\n",
        "plt.ylabel('distance (in km)')\n",
        "ax.set_xlim([0, 40])\n",
        "ax.set_ylim([0, 100])\n",
        "ax.plot(t, d_r, c='green')\n",
        "ax.plot(t, d_s, c='brown')\n",
        "plt.axvline(x=30, color='purple', linestyle='--')\n",
        "_ = plt.axhline(y=75, color='purple', linestyle='--')"
      ],
      "execution_count": null,
      "outputs": [
        {
          "output_type": "display_data",
          "data": {
            "text/plain": [
              "<Figure size 640x480 with 1 Axes>"
            ],
            "image/png": "[encoded data removed]"
          },
          "metadata": {}
        }
      ]
    },
    {
      "cell_type": "markdown",
      "metadata": {
        "id": "kpwZw64EYfs6"
      },
      "source": [
        "**Return to slides here.**"
      ]
    },
    {
      "cell_type": "markdown",
      "metadata": {
        "id": "NgGMhK4B51oe"
      },
      "source": [
        "### Scalars (Rank 0 Tensors) in Base Python"
      ]
    },
    {
      "cell_type": "code",
      "metadata": {
        "id": "ZXnTHDn_EW6b",
        "colab": {
          "base_uri": "https://localhost:8080/"
        },
        "outputId": "b31a3bb4-7cee-45bd-9fb4-54991854691b"
      },
      "source": [
        "x = 25\n",
        "x"
      ],
      "execution_count": 3,
      "outputs": [
        {
          "output_type": "execute_result",
          "data": {
            "text/plain": [
              "25"
            ]
          },
          "metadata": {},
          "execution_count": 3
        }
      ]
    },
    {
      "cell_type": "code",
      "metadata": {
        "id": "VF8Jam76R4KJ",
        "colab": {
          "base_uri": "https://localhost:8080/"
        },
        "outputId": "4216d6c0-e31d-45cd-b0f9-1abd5b5e052d"
      },
      "source": [
        "type(x) # if we'd like more specificity (e.g., int16, uint8), we need NumPy or another numeric library"
      ],
      "execution_count": 4,
      "outputs": [
        {
          "output_type": "execute_result",
          "data": {
            "text/plain": [
              "int"
            ]
          },
          "metadata": {},
          "execution_count": 4
        }
      ]
    },
    {
      "cell_type": "code",
      "metadata": {
        "id": "ZBzYlL0mRd-P"
      },
      "source": [
        "y = 3"
      ],
      "execution_count": 5,
      "outputs": []
    },
    {
      "cell_type": "code",
      "metadata": {
        "id": "1i-hW0bcReyy",
        "colab": {
          "base_uri": "https://localhost:8080/"
        },
        "outputId": "f6c8b809-c950-46ed-a3f7-3ffbef3e6c31"
      },
      "source": [
        "py_sum = x + y\n",
        "py_sum"
      ],
      "execution_count": 6,
      "outputs": [
        {
          "output_type": "execute_result",
          "data": {
            "text/plain": [
              "28"
            ]
          },
          "metadata": {},
          "execution_count": 6
        }
      ]
    },
    {
      "cell_type": "code",
      "metadata": {
        "id": "CpyUxB6XRk6y",
        "colab": {
          "base_uri": "https://localhost:8080/"
        },
        "outputId": "ac6155bd-28f2-4f1b-e66b-5912a63a0bb9"
      },
      "source": [
        "type(py_sum)"
      ],
      "execution_count": 7,
      "outputs": [
        {
          "output_type": "execute_result",
          "data": {
            "text/plain": [
              "int"
            ]
          },
          "metadata": {},
          "execution_count": 7
        }
      ]
    },
    {
      "cell_type": "code",
      "metadata": {
        "id": "V2UiLj-JR8Ij",
        "colab": {
          "base_uri": "https://localhost:8080/"
        },
        "outputId": "3959361f-6796-4862-dda2-cd8bb9ff250e"
      },
      "source": [
        "x_float = 25.0\n",
        "float_sum = x_float + y\n",
        "float_sum"
      ],
      "execution_count": 8,
      "outputs": [
        {
          "output_type": "execute_result",
          "data": {
            "text/plain": [
              "28.0"
            ]
          },
          "metadata": {},
          "execution_count": 8
        }
      ]
    },
    {
      "cell_type": "code",
      "metadata": {
        "id": "ikOwjp6ASCaf",
        "colab": {
          "base_uri": "https://localhost:8080/"
        },
        "outputId": "6abe2bd0-0ad0-4e39-c8d6-e2e282ce2d20"
      },
      "source": [
        "type(float_sum)"
      ],
      "execution_count": 9,
      "outputs": [
        {
          "output_type": "execute_result",
          "data": {
            "text/plain": [
              "float"
            ]
          },
          "metadata": {},
          "execution_count": 9
        }
      ]
    },
    {
      "cell_type": "markdown",
      "metadata": {
        "id": "SgUvioyUz8T2"
      },
      "source": [
        "### Scalars in PyTorch\n",
        "\n",
        "* PyTorch and TensorFlow are the two most popular *automatic differentiation* libraries (a focus of the [*Calculus I*](https://github.com/jonkrohn/ML-foundations/blob/master/notebooks/3-calculus-i.ipynb) and [*Calculus II*](https://github.com/jonkrohn/ML-foundations/blob/master/notebooks/4-calculus-ii.ipynb) subjects in the *ML Foundations* series) in Python, itself the most popular programming language in ML\n",
        "* PyTorch tensors are designed to be pythonic, i.e., to feel and behave like NumPy arrays\n",
        "* The advantage of PyTorch tensors relative to NumPy arrays is that they easily be used for operations on GPU (see [here](https://pytorch.org/tutorials/beginner/examples_tensor/two_layer_net_tensor.html) for example)\n",
        "* Documentation on PyTorch tensors, including available data types, is [here](https://pytorch.org/docs/stable/tensors.html)"
      ]
    },
    {
      "cell_type": "code",
      "metadata": {
        "id": "A9Hhazt2zKeD"
      },
      "source": [
        "import torch"
      ],
      "execution_count": 27,
      "outputs": []
    },
    {
      "cell_type": "code",
      "metadata": {
        "id": "a211IRW_0-iY",
        "colab": {
          "base_uri": "https://localhost:8080/"
        },
        "outputId": "409b5430-89bd-4cd0-fb41-531c112dc040"
      },
      "source": [
        "x_pt = torch.tensor(25) # type specification optional, e.g.: dtype=torch.float16\n",
        "x_pt"
      ],
      "execution_count": 28,
      "outputs": [
        {
          "output_type": "execute_result",
          "data": {
            "text/plain": [
              "tensor(25)"
            ]
          },
          "metadata": {},
          "execution_count": 28
        }
      ]
    },
    {
      "cell_type": "code",
      "metadata": {
        "id": "LvxzMa_HhUNB",
        "colab": {
          "base_uri": "https://localhost:8080/"
        },
        "outputId": "c73ac7e2-b203-46e4-bf40-665142e54743"
      },
      "source": [
        "x_pt.shape"
      ],
      "execution_count": 29,
      "outputs": [
        {
          "output_type": "execute_result",
          "data": {
            "text/plain": [
              "torch.Size([])"
            ]
          },
          "metadata": {},
          "execution_count": 29
        }
      ]
    },
    {
      "cell_type": "markdown",
      "metadata": {
        "id": "eUyuZXlWS8T9"
      },
      "source": [
        "### Scalars in TensorFlow (version 2.0 or later)\n",
        "\n",
        "Tensors created with a wrapper, all of which [you can read about here](https://www.tensorflow.org/guide/tensor):  \n",
        "\n",
        "* `tf.Variable`\n",
        "* `tf.constant`\n",
        "* `tf.placeholder`\n",
        "* `tf.SparseTensor`\n",
        "\n",
        "Most widely-used is `tf.Variable`, which we'll use here.\n",
        "\n",
        "As with TF tensors, in PyTorch we can similarly perform operations, and we can easily convert to and from NumPy arrays\n",
        "\n",
        "Also, a full list of tensor data types is available [here](https://www.tensorflow.org/api_docs/python/tf/dtypes/DType)."
      ]
    },
    {
      "cell_type": "code",
      "metadata": {
        "id": "CHBYse_MEqZM"
      },
      "source": [
        "import tensorflow as tf"
      ],
      "execution_count": 13,
      "outputs": []
    },
    {
      "cell_type": "code",
      "metadata": {
        "id": "sDv92Nh-NSOU",
        "colab": {
          "base_uri": "https://localhost:8080/"
        },
        "outputId": "522c4a08-c2fa-4aea-cad0-f1f5a3e19e93"
      },
      "source": [
        "x_tf = tf.Variable(25, dtype=tf.int16) # dtype is optional\n",
        "x_tf"
      ],
      "execution_count": 14,
      "outputs": [
        {
          "output_type": "execute_result",
          "data": {
            "text/plain": [
              "<tf.Variable 'Variable:0' shape=() dtype=int16, numpy=25>"
            ]
          },
          "metadata": {},
          "execution_count": 14
        }
      ]
    },
    {
      "cell_type": "code",
      "metadata": {
        "id": "EmPMBIV9RQjS",
        "colab": {
          "base_uri": "https://localhost:8080/"
        },
        "outputId": "97284e0e-5c97-49a2-aafa-b110bd16736a"
      },
      "source": [
        "x_tf.shape"
      ],
      "execution_count": 15,
      "outputs": [
        {
          "output_type": "execute_result",
          "data": {
            "text/plain": [
              "TensorShape([])"
            ]
          },
          "metadata": {},
          "execution_count": 15
        }
      ]
    },
    {
      "cell_type": "code",
      "metadata": {
        "id": "mEILtO9pPctO"
      },
      "source": [
        "y_tf = tf.Variable(3, dtype=tf.int16)"
      ],
      "execution_count": 16,
      "outputs": []
    },
    {
      "cell_type": "code",
      "metadata": {
        "id": "dvvWuaw6Ph_D",
        "colab": {
          "base_uri": "https://localhost:8080/"
        },
        "outputId": "59a71627-44a6-4b9a-822f-104c28e3fd68"
      },
      "source": [
        "x_tf + y_tf"
      ],
      "execution_count": 17,
      "outputs": [
        {
          "output_type": "execute_result",
          "data": {
            "text/plain": [
              "<tf.Tensor: shape=(), dtype=int16, numpy=28>"
            ]
          },
          "metadata": {},
          "execution_count": 17
        }
      ]
    },
    {
      "cell_type": "code",
      "metadata": {
        "id": "JZVhRnX9RUGW",
        "colab": {
          "base_uri": "https://localhost:8080/"
        },
        "outputId": "64381852-b222-46c9-fe8d-5b1a8747a85a"
      },
      "source": [
        "tf_sum = tf.add(x_tf, y_tf)\n",
        "tf_sum"
      ],
      "execution_count": 18,
      "outputs": [
        {
          "output_type": "execute_result",
          "data": {
            "text/plain": [
              "<tf.Tensor: shape=(), dtype=int16, numpy=28>"
            ]
          },
          "metadata": {},
          "execution_count": 18
        }
      ]
    },
    {
      "cell_type": "code",
      "metadata": {
        "id": "sVbMxT1Ey6Y3",
        "colab": {
          "base_uri": "https://localhost:8080/"
        },
        "outputId": "f095cc7a-4c33-4ecc-ca61-d2d65ec50ab7"
      },
      "source": [
        "tf_sum.numpy() # note that NumPy operations automatically convert tensors to NumPy arrays, and vice versa"
      ],
      "execution_count": 19,
      "outputs": [
        {
          "output_type": "execute_result",
          "data": {
            "text/plain": [
              "28"
            ]
          },
          "metadata": {},
          "execution_count": 19
        }
      ]
    },
    {
      "cell_type": "code",
      "metadata": {
        "id": "LXpv69t0y-f6",
        "colab": {
          "base_uri": "https://localhost:8080/"
        },
        "outputId": "c5bdf3af-8179-40da-f7bb-66b9fe8dd0f2"
      },
      "source": [
        "type(tf_sum.numpy())"
      ],
      "execution_count": 20,
      "outputs": [
        {
          "output_type": "execute_result",
          "data": {
            "text/plain": [
              "numpy.int16"
            ]
          },
          "metadata": {},
          "execution_count": 20
        }
      ]
    },
    {
      "cell_type": "code",
      "metadata": {
        "id": "VszuTUAg1uXk",
        "colab": {
          "base_uri": "https://localhost:8080/"
        },
        "outputId": "1e78e12a-e79a-45ad-a60a-0e2cd1b1ca95"
      },
      "source": [
        "tf_float = tf.Variable(25., dtype=tf.float16)\n",
        "tf_float"
      ],
      "execution_count": 21,
      "outputs": [
        {
          "output_type": "execute_result",
          "data": {
            "text/plain": [
              "<tf.Variable 'Variable:0' shape=() dtype=float16, numpy=25.0>"
            ]
          },
          "metadata": {},
          "execution_count": 21
        }
      ]
    },
    {
      "cell_type": "markdown",
      "metadata": {
        "id": "B5VRGo1H6010"
      },
      "source": [
        "** *italicised text*Return to slides here.**"
      ]
    },
    {
      "cell_type": "markdown",
      "metadata": {
        "id": "4CURG9Er6aZI"
      },
      "source": [
        "### Vectors (Rank 1 Tensors) in NumPy"
      ]
    },
    {
      "cell_type": "code",
      "metadata": {
        "id": "T9ME4kBr4wg0",
        "colab": {
          "base_uri": "https://localhost:8080/"
        },
        "outputId": "05b787ff-cff1-45a1-fc25-62a24574c7c8"
      },
      "source": [
        "x = np.array([25, 2, 5]) # type argument is optional, e.g.: dtype=np.float16\n",
        "x"
      ],
      "execution_count": 30,
      "outputs": [
        {
          "output_type": "execute_result",
          "data": {
            "text/plain": [
              "array([25,  2,  5])"
            ]
          },
          "metadata": {},
          "execution_count": 30
        }
      ]
    },
    {
      "cell_type": "code",
      "metadata": {
        "id": "ZuotxmlZL2wp",
        "colab": {
          "base_uri": "https://localhost:8080/"
        },
        "outputId": "6a46b9f6-067e-475f-a33e-cac2cb3e0e24"
      },
      "source": [
        "len(x)"
      ],
      "execution_count": 31,
      "outputs": [
        {
          "output_type": "execute_result",
          "data": {
            "text/plain": [
              "3"
            ]
          },
          "metadata": {},
          "execution_count": 31
        }
      ]
    },
    {
      "cell_type": "code",
      "metadata": {
        "id": "OlPYy6GOaIVy",
        "colab": {
          "base_uri": "https://localhost:8080/"
        },
        "outputId": "ec167b1e-2de3-472f-dd8a-2be81e2a90b1"
      },
      "source": [
        "x.shape"
      ],
      "execution_count": 32,
      "outputs": [
        {
          "output_type": "execute_result",
          "data": {
            "text/plain": [
              "(3,)"
            ]
          },
          "metadata": {},
          "execution_count": 32
        }
      ]
    },
    {
      "cell_type": "code",
      "metadata": {
        "id": "sWbYGwObcgtK",
        "colab": {
          "base_uri": "https://localhost:8080/"
        },
        "outputId": "6f19cf60-5457-401c-9eb0-2e5b6743063d"
      },
      "source": [
        "type(x)"
      ],
      "execution_count": 33,
      "outputs": [
        {
          "output_type": "execute_result",
          "data": {
            "text/plain": [
              "numpy.ndarray"
            ]
          },
          "metadata": {},
          "execution_count": 33
        }
      ]
    },
    {
      "cell_type": "code",
      "metadata": {
        "id": "ME_xuvD_oTPg",
        "colab": {
          "base_uri": "https://localhost:8080/"
        },
        "outputId": "6d845f56-4e26-4b5f-c939-5a4d3ef542a9"
      },
      "source": [
        "x[0] # zero-indexed"
      ],
      "execution_count": 34,
      "outputs": [
        {
          "output_type": "execute_result",
          "data": {
            "text/plain": [
              "25"
            ]
          },
          "metadata": {},
          "execution_count": 34
        }
      ]
    },
    {
      "cell_type": "code",
      "metadata": {
        "id": "hXmBHZQ-nxFw",
        "colab": {
          "base_uri": "https://localhost:8080/"
        },
        "outputId": "1fc1b78e-07dd-4426-9519-bc4e006c2342"
      },
      "source": [
        "type(x[0])"
      ],
      "execution_count": 35,
      "outputs": [
        {
          "output_type": "execute_result",
          "data": {
            "text/plain": [
              "numpy.int64"
            ]
          },
          "metadata": {},
          "execution_count": 35
        }
      ]
    },
    {
      "cell_type": "markdown",
      "metadata": {
        "id": "NiEofCzYZBrQ"
      },
      "source": [
        "### Vector Transposition"
      ]
    },
    {
      "cell_type": "code",
      "metadata": {
        "id": "hxGFNDx6V95l",
        "colab": {
          "base_uri": "https://localhost:8080/"
        },
        "outputId": "fd2015fb-2d22-49f1-82c1-c84fb5844d7a"
      },
      "source": [
        "# Transposing a regular 1-D array has no effect...\n",
        "x_t = x.T\n",
        "x_t"
      ],
      "execution_count": 36,
      "outputs": [
        {
          "output_type": "execute_result",
          "data": {
            "text/plain": [
              "array([25,  2,  5])"
            ]
          },
          "metadata": {},
          "execution_count": 36
        }
      ]
    },
    {
      "cell_type": "code",
      "metadata": {
        "id": "_f8E9ExDWw4p",
        "colab": {
          "base_uri": "https://localhost:8080/"
        },
        "outputId": "b6e5f6dd-33c1-4744-e875-f7750c58fee4"
      },
      "source": [
        "x_t.shape"
      ],
      "execution_count": 37,
      "outputs": [
        {
          "output_type": "execute_result",
          "data": {
            "text/plain": [
              "(3,)"
            ]
          },
          "metadata": {},
          "execution_count": 37
        }
      ]
    },
    {
      "cell_type": "code",
      "metadata": {
        "id": "AEd8jB7YcgtT",
        "colab": {
          "base_uri": "https://localhost:8080/"
        },
        "outputId": "a658bfe5-6a39-48f4-8967-da8736f98d51"
      },
      "source": [
        "# ...but it does we use nested \"matrix-style\" brackets:\n",
        "y = np.array([[25, 2, 5]])\n",
        "y"
      ],
      "execution_count": 38,
      "outputs": [
        {
          "output_type": "execute_result",
          "data": {
            "text/plain": [
              "array([[25,  2,  5]])"
            ]
          },
          "metadata": {},
          "execution_count": 38
        }
      ]
    },
    {
      "cell_type": "code",
      "metadata": {
        "id": "UHQd92oRcgtV",
        "colab": {
          "base_uri": "https://localhost:8080/"
        },
        "outputId": "faf7116a-aa1b-421f-9dae-86b347d36fef"
      },
      "source": [
        "y.shape"
      ],
      "execution_count": 39,
      "outputs": [
        {
          "output_type": "execute_result",
          "data": {
            "text/plain": [
              "(1, 3)"
            ]
          },
          "metadata": {},
          "execution_count": 39
        }
      ]
    },
    {
      "cell_type": "code",
      "metadata": {
        "id": "SPi1JqGEXXUc",
        "colab": {
          "base_uri": "https://localhost:8080/"
        },
        "outputId": "163f6a71-66ec-41c7-9848-bd7bbffe808e"
      },
      "source": [
        "# ...but can transpose a matrix with a dimension of length 1, which is mathematically equivalent:\n",
        "y_t = y.T\n",
        "y_t"
      ],
      "execution_count": 40,
      "outputs": [
        {
          "output_type": "execute_result",
          "data": {
            "text/plain": [
              "array([[25],\n",
              "       [ 2],\n",
              "       [ 5]])"
            ]
          },
          "metadata": {},
          "execution_count": 40
        }
      ]
    },
    {
      "cell_type": "code",
      "metadata": {
        "id": "6rzUv762Yjis",
        "colab": {
          "base_uri": "https://localhost:8080/"
        },
        "outputId": "a4ad95e1-77ba-4ce5-f91e-aadb24c6a8a0"
      },
      "source": [
        "y_t.shape # this is a column vector as it has 3 rows and 1 column"
      ],
      "execution_count": 41,
      "outputs": [
        {
          "output_type": "execute_result",
          "data": {
            "text/plain": [
              "(3, 1)"
            ]
          },
          "metadata": {},
          "execution_count": 41
        }
      ]
    },
    {
      "cell_type": "code",
      "metadata": {
        "id": "xVnQMLOrYtra",
        "colab": {
          "base_uri": "https://localhost:8080/"
        },
        "outputId": "d56dc057-101f-4b4b-d647-2bf28e6dd737"
      },
      "source": [
        "# Column vector can be transposed back to original row vector:\n",
        "y_t.T"
      ],
      "execution_count": 42,
      "outputs": [
        {
          "output_type": "execute_result",
          "data": {
            "text/plain": [
              "array([[25,  2,  5]])"
            ]
          },
          "metadata": {},
          "execution_count": 42
        }
      ]
    },
    {
      "cell_type": "code",
      "metadata": {
        "id": "QIAA2NLRZIXC",
        "colab": {
          "base_uri": "https://localhost:8080/"
        },
        "outputId": "9fcfc4ca-a857-4757-9bf2-0e3c1c1c4819"
      },
      "source": [
        "y_t.T.shape"
      ],
      "execution_count": 43,
      "outputs": [
        {
          "output_type": "execute_result",
          "data": {
            "text/plain": [
              "(1, 3)"
            ]
          },
          "metadata": {},
          "execution_count": 43
        }
      ]
    },
    {
      "cell_type": "markdown",
      "metadata": {
        "id": "Voj26mSpZLuh"
      },
      "source": [
        "### Zero Vectors\n",
        "\n",
        "Have no effect if added to another vector"
      ]
    },
    {
      "cell_type": "code",
      "metadata": {
        "id": "-46AbOdkZVn_",
        "colab": {
          "base_uri": "https://localhost:8080/"
        },
        "outputId": "278e76a9-0660-44a6-b005-75875ee8d8c7"
      },
      "source": [
        "z = np.zeros(3)\n",
        "z"
      ],
      "execution_count": 44,
      "outputs": [
        {
          "output_type": "execute_result",
          "data": {
            "text/plain": [
              "array([0., 0., 0.])"
            ]
          },
          "metadata": {},
          "execution_count": 44
        }
      ]
    },
    {
      "cell_type": "markdown",
      "metadata": {
        "id": "c6xyYiwSnSGC"
      },
      "source": [
        "### Vectors in PyTorch and TensorFlow"
      ]
    },
    {
      "cell_type": "code",
      "metadata": {
        "id": "s2TGDeqXnitZ",
        "colab": {
          "base_uri": "https://localhost:8080/"
        },
        "outputId": "d8871af9-e05a-4244-c470-262929e44524"
      },
      "source": [
        "x_pt = torch.tensor([25, 2, 5])\n",
        "x_pt"
      ],
      "execution_count": 45,
      "outputs": [
        {
          "output_type": "execute_result",
          "data": {
            "text/plain": [
              "tensor([25,  2,  5])"
            ]
          },
          "metadata": {},
          "execution_count": 45
        }
      ]
    },
    {
      "cell_type": "code",
      "metadata": {
        "id": "-0jbHgc5iijG",
        "scrolled": true,
        "colab": {
          "base_uri": "https://localhost:8080/"
        },
        "outputId": "6cf5ef7e-0e59-4841-e3db-e7c00004ab96"
      },
      "source": [
        "x_tf = tf.Variable([25, 2, 5])\n",
        "x_tf"
      ],
      "execution_count": 46,
      "outputs": [
        {
          "output_type": "execute_result",
          "data": {
            "text/plain": [
              "<tf.Variable 'Variable:0' shape=(3,) dtype=int32, numpy=array([25,  2,  5], dtype=int32)>"
            ]
          },
          "metadata": {},
          "execution_count": 46
        }
      ]
    },
    {
      "cell_type": "markdown",
      "metadata": {
        "id": "rTDDta1Ro4Pf"
      },
      "source": [
        "**Return to slides here.**"
      ]
    },
    {
      "cell_type": "markdown",
      "metadata": {
        "id": "8fU5qVTI6SLD"
      },
      "source": [
        "### $L^2$ Norm"
      ]
    },
    {
      "cell_type": "code",
      "metadata": {
        "id": "lLc2FbGG6SLD",
        "colab": {
          "base_uri": "https://localhost:8080/"
        },
        "outputId": "63db5906-3d6f-41ca-8002-176db4d4efb1"
      },
      "source": [
        "x"
      ],
      "execution_count": 47,
      "outputs": [
        {
          "output_type": "execute_result",
          "data": {
            "text/plain": [
              "array([25,  2,  5])"
            ]
          },
          "metadata": {},
          "execution_count": 47
        }
      ]
    },
    {
      "cell_type": "code",
      "metadata": {
        "id": "AN43hsl86SLG",
        "colab": {
          "base_uri": "https://localhost:8080/"
        },
        "outputId": "dffbb072-f799-47a8-e324-1fc251de440b"
      },
      "source": [
        "(25**2 + 2**2 + 5**2)**(1/2)"
      ],
      "execution_count": 48,
      "outputs": [
        {
          "output_type": "execute_result",
          "data": {
            "text/plain": [
              "25.573423705088842"
            ]
          },
          "metadata": {},
          "execution_count": 48
        }
      ]
    },
    {
      "cell_type": "code",
      "metadata": {
        "id": "D9CyWo-l6SLI",
        "colab": {
          "base_uri": "https://localhost:8080/"
        },
        "outputId": "75ce696f-6363-459e-bc01-eeefec9f244d"
      },
      "source": [
        "np.linalg.norm(x)"
      ],
      "execution_count": 49,
      "outputs": [
        {
          "output_type": "execute_result",
          "data": {
            "text/plain": [
              "25.573423705088842"
            ]
          },
          "metadata": {},
          "execution_count": 49
        }
      ]
    },
    {
      "cell_type": "markdown",
      "metadata": {
        "id": "TNEMRi926SLK"
      },
      "source": [
        "So, if units in this 3-dimensional vector space are meters, then the vector $x$ has a length of 25.6m"
      ]
    },
    {
      "cell_type": "markdown",
      "metadata": {
        "id": "ugQC6k4h6SLK"
      },
      "source": [
        "**Return to slides here.**"
      ]
    },
    {
      "cell_type": "markdown",
      "metadata": {
        "id": "PwiRlMuC6SLK"
      },
      "source": [
        "### $L^1$ Norm"
      ]
    },
    {
      "cell_type": "code",
      "metadata": {
        "id": "lcYKyc5H6SLL",
        "colab": {
          "base_uri": "https://localhost:8080/"
        },
        "outputId": "a73cde60-948f-48b3-c475-4781bb4b0d72"
      },
      "source": [
        "x"
      ],
      "execution_count": 50,
      "outputs": [
        {
          "output_type": "execute_result",
          "data": {
            "text/plain": [
              "array([25,  2,  5])"
            ]
          },
          "metadata": {},
          "execution_count": 50
        }
      ]
    },
    {
      "cell_type": "code",
      "metadata": {
        "id": "8jNb6nYl6SLM",
        "colab": {
          "base_uri": "https://localhost:8080/"
        },
        "outputId": "41a69c37-19d3-4f64-cc8d-4303cc30cc75"
      },
      "source": [
        "np.abs(25) + np.abs(2) + np.abs(5)"
      ],
      "execution_count": 51,
      "outputs": [
        {
          "output_type": "execute_result",
          "data": {
            "text/plain": [
              "32"
            ]
          },
          "metadata": {},
          "execution_count": 51
        }
      ]
    },
    {
      "cell_type": "markdown",
      "metadata": {
        "id": "WTPz0EBSAVee"
      },
      "source": [
        "**Return to slides here.**"
      ]
    },
    {
      "cell_type": "markdown",
      "metadata": {
        "id": "lQP73B916SLP"
      },
      "source": [
        "### Squared $L^2$ Norm"
      ]
    },
    {
      "cell_type": "code",
      "metadata": {
        "id": "Qv1ouJ8r6SLP",
        "colab": {
          "base_uri": "https://localhost:8080/"
        },
        "outputId": "94da5d54-0876-4985-f763-b33c52d3202a"
      },
      "source": [
        "x"
      ],
      "execution_count": 52,
      "outputs": [
        {
          "output_type": "execute_result",
          "data": {
            "text/plain": [
              "array([25,  2,  5])"
            ]
          },
          "metadata": {},
          "execution_count": 52
        }
      ]
    },
    {
      "cell_type": "code",
      "metadata": {
        "id": "eG3WSB5R6SLT",
        "colab": {
          "base_uri": "https://localhost:8080/"
        },
        "outputId": "5fd4595a-3d00-4c29-8503-0833d5e23fa6"
      },
      "source": [
        "(25**2 + 2**2 + 5**2)"
      ],
      "execution_count": 53,
      "outputs": [
        {
          "output_type": "execute_result",
          "data": {
            "text/plain": [
              "654"
            ]
          },
          "metadata": {},
          "execution_count": 53
        }
      ]
    },
    {
      "cell_type": "code",
      "metadata": {
        "id": "bXwzSudS6SLV",
        "colab": {
          "base_uri": "https://localhost:8080/"
        },
        "outputId": "974b4f3f-5058-4d89-8a93-908da396f92d"
      },
      "source": [
        "# we'll cover tensor multiplication more soon but to prove point quickly:\n",
        "np.dot(x, x)"
      ],
      "execution_count": 54,
      "outputs": [
        {
          "output_type": "execute_result",
          "data": {
            "text/plain": [
              "654"
            ]
          },
          "metadata": {},
          "execution_count": 54
        }
      ]
    },
    {
      "cell_type": "markdown",
      "metadata": {
        "id": "q3CIH9ba6SLX"
      },
      "source": [
        "**Return to slides here.**"
      ]
    },
    {
      "cell_type": "markdown",
      "metadata": {
        "id": "BHWxVPFC6SLX"
      },
      "source": [
        "### Max Norm"
      ]
    },
    {
      "cell_type": "code",
      "metadata": {
        "id": "vO-zfvDG6SLX",
        "colab": {
          "base_uri": "https://localhost:8080/"
        },
        "outputId": "bf783480-b494-40b1-a315-753b1c228f7e"
      },
      "source": [
        "x"
      ],
      "execution_count": 55,
      "outputs": [
        {
          "output_type": "execute_result",
          "data": {
            "text/plain": [
              "array([25,  2,  5])"
            ]
          },
          "metadata": {},
          "execution_count": 55
        }
      ]
    },
    {
      "cell_type": "code",
      "metadata": {
        "id": "vXXLgbyW6SLZ",
        "colab": {
          "base_uri": "https://localhost:8080/"
        },
        "outputId": "a95a2fb2-035a-4fc3-cb69-a989110c7462"
      },
      "source": [
        "np.max([np.abs(25), np.abs(2), np.abs(5)])"
      ],
      "execution_count": 56,
      "outputs": [
        {
          "output_type": "execute_result",
          "data": {
            "text/plain": [
              "25"
            ]
          },
          "metadata": {},
          "execution_count": 56
        }
      ]
    },
    {
      "cell_type": "markdown",
      "metadata": {
        "id": "3MVTsXA8nNR0"
      },
      "source": [
        "**Return to slides here.**"
      ]
    },
    {
      "cell_type": "markdown",
      "metadata": {
        "id": "JzKlIpYZcgt9"
      },
      "source": [
        "### Orthogonal Vectors"
      ]
    },
    {
      "cell_type": "code",
      "metadata": {
        "id": "4jHg9La-cgt9",
        "colab": {
          "base_uri": "https://localhost:8080/"
        },
        "outputId": "002f7449-853e-496d-86e3-1071d1b57608"
      },
      "source": [
        "i = np.array([1, 0])\n",
        "i"
      ],
      "execution_count": 57,
      "outputs": [
        {
          "output_type": "execute_result",
          "data": {
            "text/plain": [
              "array([1, 0])"
            ]
          },
          "metadata": {},
          "execution_count": 57
        }
      ]
    },
    {
      "cell_type": "code",
      "metadata": {
        "id": "3FyLhPK3cguA",
        "colab": {
          "base_uri": "https://localhost:8080/"
        },
        "outputId": "2739d82a-24ef-4cc5-cc90-b93874f69b5a"
      },
      "source": [
        "j = np.array([0, 1])\n",
        "j"
      ],
      "execution_count": 58,
      "outputs": [
        {
          "output_type": "execute_result",
          "data": {
            "text/plain": [
              "array([0, 1])"
            ]
          },
          "metadata": {},
          "execution_count": 58
        }
      ]
    },
    {
      "cell_type": "code",
      "metadata": {
        "id": "7eQtKhaDcguC",
        "scrolled": false,
        "colab": {
          "base_uri": "https://localhost:8080/"
        },
        "outputId": "f4976440-bf07-4da0-b2ae-c81314059a3d"
      },
      "source": [
        "np.dot(i, j) # detail on the dot operation coming up..."
      ],
      "execution_count": 59,
      "outputs": [
        {
          "output_type": "execute_result",
          "data": {
            "text/plain": [
              "0"
            ]
          },
          "metadata": {},
          "execution_count": 59
        }
      ]
    },
    {
      "cell_type": "markdown",
      "metadata": {
        "id": "C6eMVPu4nNR7"
      },
      "source": [
        "**Return to slides here.**"
      ]
    },
    {
      "cell_type": "markdown",
      "metadata": {
        "id": "mK3AZH53o8Br"
      },
      "source": [
        "### Matrices (Rank 2 Tensors) in NumPy"
      ]
    },
    {
      "cell_type": "code",
      "metadata": {
        "id": "stk57cmaESW1",
        "colab": {
          "base_uri": "https://localhost:8080/"
        },
        "outputId": "8eb60703-db37-431f-d7c5-8d85fce3112a"
      },
      "source": [
        "# Use array() with nested brackets:\n",
        "X = np.array([[25, 2], [5, 26], [3, 7]])\n",
        "X"
      ],
      "execution_count": 60,
      "outputs": [
        {
          "output_type": "execute_result",
          "data": {
            "text/plain": [
              "array([[25,  2],\n",
              "       [ 5, 26],\n",
              "       [ 3,  7]])"
            ]
          },
          "metadata": {},
          "execution_count": 60
        }
      ]
    },
    {
      "cell_type": "code",
      "metadata": {
        "id": "IhDL4L8S6SLc",
        "colab": {
          "base_uri": "https://localhost:8080/"
        },
        "outputId": "850474ff-0b85-4883-bd2c-8c8083a92917"
      },
      "source": [
        "X.shape"
      ],
      "execution_count": 61,
      "outputs": [
        {
          "output_type": "execute_result",
          "data": {
            "text/plain": [
              "(3, 2)"
            ]
          },
          "metadata": {},
          "execution_count": 61
        }
      ]
    },
    {
      "cell_type": "code",
      "metadata": {
        "id": "q3oyaAK36SLe",
        "colab": {
          "base_uri": "https://localhost:8080/"
        },
        "outputId": "66fcca8a-1b2e-4efb-8ac6-19ee2e51a46c"
      },
      "source": [
        "X.size"
      ],
      "execution_count": 62,
      "outputs": [
        {
          "output_type": "execute_result",
          "data": {
            "text/plain": [
              "6"
            ]
          },
          "metadata": {},
          "execution_count": 62
        }
      ]
    },
    {
      "cell_type": "code",
      "metadata": {
        "id": "YN9CHzja6SLg",
        "colab": {
          "base_uri": "https://localhost:8080/"
        },
        "outputId": "bb9905e0-3a56-41f9-e83a-ec730f48fa78"
      },
      "source": [
        "# Select left column of matrix X (zero-indexed)\n",
        "X[:,0]"
      ],
      "execution_count": 63,
      "outputs": [
        {
          "output_type": "execute_result",
          "data": {
            "text/plain": [
              "array([25,  5,  3])"
            ]
          },
          "metadata": {},
          "execution_count": 63
        }
      ]
    },
    {
      "cell_type": "code",
      "metadata": {
        "id": "ih7nh4qC6SLi",
        "colab": {
          "base_uri": "https://localhost:8080/"
        },
        "outputId": "5c7fd1bc-874b-45df-aefd-482fc304c40d"
      },
      "source": [
        "# Select middle row of matrix X:\n",
        "X[1,:]"
      ],
      "execution_count": 64,
      "outputs": [
        {
          "output_type": "execute_result",
          "data": {
            "text/plain": [
              "array([ 5, 26])"
            ]
          },
          "metadata": {},
          "execution_count": 64
        }
      ]
    },
    {
      "cell_type": "code",
      "metadata": {
        "id": "pg7numxP6SLl",
        "colab": {
          "base_uri": "https://localhost:8080/"
        },
        "outputId": "bb6796fc-670f-4ed6-fd1e-46eee8921b08"
      },
      "source": [
        "# Another slicing-by-index example:\n",
        "X[0:2, 0:2]"
      ],
      "execution_count": 65,
      "outputs": [
        {
          "output_type": "execute_result",
          "data": {
            "text/plain": [
              "array([[25,  2],\n",
              "       [ 5, 26]])"
            ]
          },
          "metadata": {},
          "execution_count": 65
        }
      ]
    },
    {
      "cell_type": "markdown",
      "metadata": {
        "id": "HGEfZiBb6SLt"
      },
      "source": [
        "### Matrices in PyTorch"
      ]
    },
    {
      "cell_type": "code",
      "metadata": {
        "id": "-bibT9ye6SLt",
        "colab": {
          "base_uri": "https://localhost:8080/"
        },
        "outputId": "65cdef84-000d-43b5-ad68-f41c69427733"
      },
      "source": [
        "X_pt = torch.tensor([[25, 2], [5, 26], [3, 7]])\n",
        "X_pt"
      ],
      "execution_count": 66,
      "outputs": [
        {
          "output_type": "execute_result",
          "data": {
            "text/plain": [
              "tensor([[25,  2],\n",
              "        [ 5, 26],\n",
              "        [ 3,  7]])"
            ]
          },
          "metadata": {},
          "execution_count": 66
        }
      ]
    },
    {
      "cell_type": "code",
      "metadata": {
        "id": "TBPu1L7P6SLv",
        "colab": {
          "base_uri": "https://localhost:8080/"
        },
        "outputId": "a2e270bb-b353-4ff3-b18e-13238b62fa7c"
      },
      "source": [
        "X_pt.shape # more pythonic"
      ],
      "execution_count": 67,
      "outputs": [
        {
          "output_type": "execute_result",
          "data": {
            "text/plain": [
              "torch.Size([3, 2])"
            ]
          },
          "metadata": {},
          "execution_count": 67
        }
      ]
    },
    {
      "cell_type": "code",
      "metadata": {
        "id": "4mTj56M16SLw",
        "colab": {
          "base_uri": "https://localhost:8080/"
        },
        "outputId": "c58b7070-edd6-4c45-8009-9d42a96d9d5d"
      },
      "source": [
        "X_pt[1,:]"
      ],
      "execution_count": 68,
      "outputs": [
        {
          "output_type": "execute_result",
          "data": {
            "text/plain": [
              "tensor([ 5, 26])"
            ]
          },
          "metadata": {},
          "execution_count": 68
        }
      ]
    },
    {
      "cell_type": "markdown",
      "metadata": {
        "id": "E026fQlD6SLn"
      },
      "source": [
        "### Matrices in TensorFlow"
      ]
    },
    {
      "cell_type": "code",
      "metadata": {
        "id": "1gtGH6oA6SLn",
        "colab": {
          "base_uri": "https://localhost:8080/"
        },
        "outputId": "66af21ab-8e3e-427e-94f1-db91b2f2f48a"
      },
      "source": [
        "X_tf = tf.Variable([[25, 2], [5, 26], [3, 7]])\n",
        "X_tf"
      ],
      "execution_count": 69,
      "outputs": [
        {
          "output_type": "execute_result",
          "data": {
            "text/plain": [
              "<tf.Variable 'Variable:0' shape=(3, 2) dtype=int32, numpy=\n",
              "array([[25,  2],\n",
              "       [ 5, 26],\n",
              "       [ 3,  7]], dtype=int32)>"
            ]
          },
          "metadata": {},
          "execution_count": 69
        }
      ]
    },
    {
      "cell_type": "code",
      "metadata": {
        "id": "4CV_KiTP6SLp",
        "colab": {
          "base_uri": "https://localhost:8080/"
        },
        "outputId": "869777da-f2fc-4932-f538-9844fe3403a7"
      },
      "source": [
        "tf.rank(X_tf)"
      ],
      "execution_count": 70,
      "outputs": [
        {
          "output_type": "execute_result",
          "data": {
            "text/plain": [
              "<tf.Tensor: shape=(), dtype=int32, numpy=2>"
            ]
          },
          "metadata": {},
          "execution_count": 70
        }
      ]
    },
    {
      "cell_type": "code",
      "metadata": {
        "id": "vUsce8tC6SLq",
        "colab": {
          "base_uri": "https://localhost:8080/"
        },
        "outputId": "27e52afd-8fe2-4e57-e315-67fd1db755d6"
      },
      "source": [
        "tf.shape(X_tf)"
      ],
      "execution_count": 71,
      "outputs": [
        {
          "output_type": "execute_result",
          "data": {
            "text/plain": [
              "<tf.Tensor: shape=(2,), dtype=int32, numpy=array([3, 2], dtype=int32)>"
            ]
          },
          "metadata": {},
          "execution_count": 71
        }
      ]
    },
    {
      "cell_type": "code",
      "metadata": {
        "id": "QNpfvNPj6SLr",
        "colab": {
          "base_uri": "https://localhost:8080/"
        },
        "outputId": "8f473f43-d120-4ed5-bba2-6ca08c1b347b"
      },
      "source": [
        "X_tf[1,:]"
      ],
      "execution_count": 72,
      "outputs": [
        {
          "output_type": "execute_result",
          "data": {
            "text/plain": [
              "<tf.Tensor: shape=(2,), dtype=int32, numpy=array([ 5, 26], dtype=int32)>"
            ]
          },
          "metadata": {},
          "execution_count": 72
        }
      ]
    },
    {
      "cell_type": "markdown",
      "metadata": {
        "id": "CodS4evY6SLy"
      },
      "source": [
        "**Return to slides here.**"
      ]
    },
    {
      "cell_type": "markdown",
      "metadata": {
        "id": "cMpfujF_6SLy"
      },
      "source": [
        "### Higher-Rank Tensors\n",
        "\n",
        "As an example, rank 4 tensors are common for images, where each dimension corresponds to:\n",
        "\n",
        "1. Number of images in training batch, e.g., 32\n",
        "2. Image height in pixels, e.g., 28 for [MNIST digits](http://yann.lecun.com/exdb/mnist/)\n",
        "3. Image width in pixels, e.g., 28\n",
        "4. Number of color channels, e.g., 3 for full-color images (RGB)"
      ]
    },
    {
      "cell_type": "code",
      "metadata": {
        "id": "KSZlICRR6SL1"
      },
      "source": [
        "images_pt = torch.zeros([3, 2, 2, 3])"
      ],
      "execution_count": 73,
      "outputs": []
    },
    {
      "cell_type": "code",
      "metadata": {
        "id": "6Dqj0vmh6SL2",
        "colab": {
          "base_uri": "https://localhost:8080/"
        },
        "outputId": "be4e418b-9570-41dc-d55b-d8bab13d08c4"
      },
      "source": [
        "images_pt"
      ],
      "execution_count": 74,
      "outputs": [
        {
          "output_type": "execute_result",
          "data": {
            "text/plain": [
              "tensor([[[[0., 0., 0.],\n",
              "          [0., 0., 0.]],\n",
              "\n",
              "         [[0., 0., 0.],\n",
              "          [0., 0., 0.]]],\n",
              "\n",
              "\n",
              "        [[[0., 0., 0.],\n",
              "          [0., 0., 0.]],\n",
              "\n",
              "         [[0., 0., 0.],\n",
              "          [0., 0., 0.]]],\n",
              "\n",
              "\n",
              "        [[[0., 0., 0.],\n",
              "          [0., 0., 0.]],\n",
              "\n",
              "         [[0., 0., 0.],\n",
              "          [0., 0., 0.]]]])"
            ]
          },
          "metadata": {},
          "execution_count": 74
        }
      ]
    },
    {
      "cell_type": "code",
      "metadata": {
        "id": "7TASTVD96SLy"
      },
      "source": [
        "images_tf = tf.zeros([32, 28, 28, 3])"
      ],
      "execution_count": 75,
      "outputs": []
    },
    {
      "cell_type": "code",
      "metadata": {
        "id": "ftOliyru6SL0"
      },
      "source": [
        "# images_tf"
      ],
      "execution_count": 76,
      "outputs": []
    },
    {
      "cell_type": "markdown",
      "metadata": {
        "id": "O3sgkdXZ6SL3"
      },
      "source": [
        "**Return to slides here.**"
      ]
    },
    {
      "cell_type": "markdown",
      "metadata": {
        "id": "lmG3LEZK6SL4"
      },
      "source": [
        "## Segment 2: Common Tensor Operations"
      ]
    },
    {
      "cell_type": "markdown",
      "metadata": {
        "id": "iSHGMCxd6SL4"
      },
      "source": [
        "### Tensor Transposition"
      ]
    },
    {
      "cell_type": "code",
      "metadata": {
        "id": "1YN1narR6SL4",
        "colab": {
          "base_uri": "https://localhost:8080/"
        },
        "outputId": "48ded3bc-4a5a-4de1-afff-23d3f0a830b4"
      },
      "source": [
        "X"
      ],
      "execution_count": 77,
      "outputs": [
        {
          "output_type": "execute_result",
          "data": {
            "text/plain": [
              "array([[25,  2],\n",
              "       [ 5, 26],\n",
              "       [ 3,  7]])"
            ]
          },
          "metadata": {},
          "execution_count": 77
        }
      ]
    },
    {
      "cell_type": "code",
      "metadata": {
        "id": "5hf3M_NL6SL5",
        "colab": {
          "base_uri": "https://localhost:8080/"
        },
        "outputId": "27d45b4f-9ff4-4ffb-ae0c-021b3a8222a5"
      },
      "source": [
        "X.T"
      ],
      "execution_count": 79,
      "outputs": [
        {
          "output_type": "execute_result",
          "data": {
            "text/plain": [
              "array([[25,  5,  3],\n",
              "       [ 2, 26,  7]])"
            ]
          },
          "metadata": {},
          "execution_count": 79
        }
      ]
    },
    {
      "cell_type": "code",
      "metadata": {
        "id": "vyBFN_4g6SL9",
        "colab": {
          "base_uri": "https://localhost:8080/"
        },
        "outputId": "24862761-38a3-472c-f657-a471172693e4"
      },
      "source": [
        "X_pt.T"
      ],
      "execution_count": 80,
      "outputs": [
        {
          "output_type": "execute_result",
          "data": {
            "text/plain": [
              "tensor([[25,  5,  3],\n",
              "        [ 2, 26,  7]])"
            ]
          },
          "metadata": {},
          "execution_count": 80
        }
      ]
    },
    {
      "cell_type": "code",
      "metadata": {
        "id": "K2DuDJc_6SL6",
        "colab": {
          "base_uri": "https://localhost:8080/"
        },
        "outputId": "e3fc2ab0-8158-427b-86bd-31cc398cc356"
      },
      "source": [
        "tf.transpose(X_tf) # less Pythonic"
      ],
      "execution_count": 81,
      "outputs": [
        {
          "output_type": "execute_result",
          "data": {
            "text/plain": [
              "<tf.Tensor: shape=(2, 3), dtype=int32, numpy=\n",
              "array([[25,  5,  3],\n",
              "       [ 2, 26,  7]], dtype=int32)>"
            ]
          },
          "metadata": {},
          "execution_count": 81
        }
      ]
    },
    {
      "cell_type": "markdown",
      "metadata": {
        "id": "Hp9P1jx76SL_"
      },
      "source": [
        "### Basic Arithmetical Properties"
      ]
    },
    {
      "cell_type": "markdown",
      "metadata": {
        "id": "WxaImEUc6SMA"
      },
      "source": [
        "Adding or multiplying with scalar applies operation to all elements and tensor shape is retained:"
      ]
    },
    {
      "cell_type": "code",
      "metadata": {
        "id": "yhXGETii6SMA",
        "colab": {
          "base_uri": "https://localhost:8080/"
        },
        "outputId": "e23f6e0a-db25-48ab-e823-2d0108b3304c"
      },
      "source": [
        "X*2"
      ],
      "execution_count": 82,
      "outputs": [
        {
          "output_type": "execute_result",
          "data": {
            "text/plain": [
              "array([[50,  4],\n",
              "       [10, 52],\n",
              "       [ 6, 14]])"
            ]
          },
          "metadata": {},
          "execution_count": 82
        }
      ]
    },
    {
      "cell_type": "code",
      "metadata": {
        "id": "KnPULtDO6SMC",
        "colab": {
          "base_uri": "https://localhost:8080/"
        },
        "outputId": "2ff61e68-2e98-4374-b658-fb28e6ee7dbb"
      },
      "source": [
        "X+2"
      ],
      "execution_count": 83,
      "outputs": [
        {
          "output_type": "execute_result",
          "data": {
            "text/plain": [
              "array([[27,  4],\n",
              "       [ 7, 28],\n",
              "       [ 5,  9]])"
            ]
          },
          "metadata": {},
          "execution_count": 83
        }
      ]
    },
    {
      "cell_type": "code",
      "metadata": {
        "id": "MkfC0Gsb6SMD",
        "colab": {
          "base_uri": "https://localhost:8080/"
        },
        "outputId": "54e4c82f-1350-4d3d-e0b6-f6d030e09cb0"
      },
      "source": [
        "X*2+2"
      ],
      "execution_count": 84,
      "outputs": [
        {
          "output_type": "execute_result",
          "data": {
            "text/plain": [
              "array([[52,  6],\n",
              "       [12, 54],\n",
              "       [ 8, 16]])"
            ]
          },
          "metadata": {},
          "execution_count": 84
        }
      ]
    },
    {
      "cell_type": "code",
      "metadata": {
        "id": "04bIDpGj6SMH",
        "colab": {
          "base_uri": "https://localhost:8080/"
        },
        "outputId": "eb0bea72-9ae2-4a6a-ef49-520f50799033"
      },
      "source": [
        "X_pt*2+2 # Python operators are overloaded; could alternatively use torch.mul() or torch.add()"
      ],
      "execution_count": 85,
      "outputs": [
        {
          "output_type": "execute_result",
          "data": {
            "text/plain": [
              "tensor([[52,  6],\n",
              "        [12, 54],\n",
              "        [ 8, 16]])"
            ]
          },
          "metadata": {},
          "execution_count": 85
        }
      ]
    },
    {
      "cell_type": "code",
      "metadata": {
        "id": "2oRBSmRL6SMI",
        "colab": {
          "base_uri": "https://localhost:8080/"
        },
        "outputId": "951b05cd-f103-4582-8d63-511a711ff15b"
      },
      "source": [
        "torch.add(torch.mul(X_pt, 2), 2)"
      ],
      "execution_count": 86,
      "outputs": [
        {
          "output_type": "execute_result",
          "data": {
            "text/plain": [
              "tensor([[52,  6],\n",
              "        [12, 54],\n",
              "        [ 8, 16]])"
            ]
          },
          "metadata": {},
          "execution_count": 86
        }
      ]
    },
    {
      "cell_type": "code",
      "metadata": {
        "id": "OMSb9Otd6SMF",
        "colab": {
          "base_uri": "https://localhost:8080/"
        },
        "outputId": "ac00c34f-be57-451a-f8ac-dc2641de436a"
      },
      "source": [
        "X_tf*2+2 # Operators likewise overloaded; could equally use tf.multiply() tf.add()"
      ],
      "execution_count": 87,
      "outputs": [
        {
          "output_type": "execute_result",
          "data": {
            "text/plain": [
              "<tf.Tensor: shape=(3, 2), dtype=int32, numpy=\n",
              "array([[52,  6],\n",
              "       [12, 54],\n",
              "       [ 8, 16]], dtype=int32)>"
            ]
          },
          "metadata": {},
          "execution_count": 87
        }
      ]
    },
    {
      "cell_type": "code",
      "metadata": {
        "id": "5ya2xZ4u6SMG",
        "colab": {
          "base_uri": "https://localhost:8080/"
        },
        "outputId": "bcf2fff5-9a12-44ef-905d-c597551c2d61"
      },
      "source": [
        "tf.add(tf.multiply(X_tf, 2), 2)"
      ],
      "execution_count": 88,
      "outputs": [
        {
          "output_type": "execute_result",
          "data": {
            "text/plain": [
              "<tf.Tensor: shape=(3, 2), dtype=int32, numpy=\n",
              "array([[52,  6],\n",
              "       [12, 54],\n",
              "       [ 8, 16]], dtype=int32)>"
            ]
          },
          "metadata": {},
          "execution_count": 88
        }
      ]
    },
    {
      "cell_type": "markdown",
      "metadata": {
        "id": "wt8Ls4076SMK"
      },
      "source": [
        "If two tensors have the same size, operations are often by default applied element-wise. This is **not matrix multiplication**, which we'll cover later, but is rather called the **Hadamard product** or simply the **element-wise product**.\n",
        "\n",
        "The mathematical notation is $A \\odot X$"
      ]
    },
    {
      "cell_type": "code",
      "metadata": {
        "id": "KUMyU1t46SMK",
        "colab": {
          "base_uri": "https://localhost:8080/"
        },
        "outputId": "ba88006b-b404-4847-cc7d-b52596f06bc3"
      },
      "source": [
        "X"
      ],
      "execution_count": 89,
      "outputs": [
        {
          "output_type": "execute_result",
          "data": {
            "text/plain": [
              "array([[25,  2],\n",
              "       [ 5, 26],\n",
              "       [ 3,  7]])"
            ]
          },
          "metadata": {},
          "execution_count": 89
        }
      ]
    },
    {
      "cell_type": "code",
      "metadata": {
        "id": "UNIbp0P36SML",
        "colab": {
          "base_uri": "https://localhost:8080/"
        },
        "outputId": "7b66edc9-aae9-48a3-f729-14439b767837"
      },
      "source": [
        "A = X+2\n",
        "A"
      ],
      "execution_count": 90,
      "outputs": [
        {
          "output_type": "execute_result",
          "data": {
            "text/plain": [
              "array([[27,  4],\n",
              "       [ 7, 28],\n",
              "       [ 5,  9]])"
            ]
          },
          "metadata": {},
          "execution_count": 90
        }
      ]
    },
    {
      "cell_type": "code",
      "metadata": {
        "id": "HE9xPWPdcgu4",
        "colab": {
          "base_uri": "https://localhost:8080/"
        },
        "outputId": "a697655e-3abe-4bb3-9e5c-fbef4f0fda69"
      },
      "source": [
        "A + X"
      ],
      "execution_count": 91,
      "outputs": [
        {
          "output_type": "execute_result",
          "data": {
            "text/plain": [
              "array([[52,  6],\n",
              "       [12, 54],\n",
              "       [ 8, 16]])"
            ]
          },
          "metadata": {},
          "execution_count": 91
        }
      ]
    },
    {
      "cell_type": "code",
      "metadata": {
        "id": "xKyCwGia6SMP",
        "colab": {
          "base_uri": "https://localhost:8080/"
        },
        "outputId": "2f126290-17dd-45a7-f759-b2c08eb5e741"
      },
      "source": [
        "A * X"
      ],
      "execution_count": 92,
      "outputs": [
        {
          "output_type": "execute_result",
          "data": {
            "text/plain": [
              "array([[675,   8],\n",
              "       [ 35, 728],\n",
              "       [ 15,  63]])"
            ]
          },
          "metadata": {},
          "execution_count": 92
        }
      ]
    },
    {
      "cell_type": "code",
      "metadata": {
        "id": "B5jXGIBp6SMT"
      },
      "source": [
        "A_pt = X_pt + 2"
      ],
      "execution_count": 93,
      "outputs": []
    },
    {
      "cell_type": "code",
      "metadata": {
        "id": "A7k6yxu36SMU",
        "colab": {
          "base_uri": "https://localhost:8080/"
        },
        "outputId": "b494b2ad-9186-4df1-e8b9-dde91b750dbf"
      },
      "source": [
        "A_pt + X_pt"
      ],
      "execution_count": 94,
      "outputs": [
        {
          "output_type": "execute_result",
          "data": {
            "text/plain": [
              "tensor([[52,  6],\n",
              "        [12, 54],\n",
              "        [ 8, 16]])"
            ]
          },
          "metadata": {},
          "execution_count": 94
        }
      ]
    },
    {
      "cell_type": "code",
      "metadata": {
        "id": "r8vOul0m6SMW",
        "colab": {
          "base_uri": "https://localhost:8080/"
        },
        "outputId": "57f8d47d-1117-4e01-fb88-b9a42369f58d"
      },
      "source": [
        "A_pt * X_pt"
      ],
      "execution_count": 95,
      "outputs": [
        {
          "output_type": "execute_result",
          "data": {
            "text/plain": [
              "tensor([[675,   8],\n",
              "        [ 35, 728],\n",
              "        [ 15,  63]])"
            ]
          },
          "metadata": {},
          "execution_count": 95
        }
      ]
    },
    {
      "cell_type": "code",
      "metadata": {
        "id": "rQcBMSb76SMQ"
      },
      "source": [
        "A_tf = X_tf + 2"
      ],
      "execution_count": 96,
      "outputs": []
    },
    {
      "cell_type": "code",
      "metadata": {
        "id": "x6s1wtNj6SMR",
        "colab": {
          "base_uri": "https://localhost:8080/"
        },
        "outputId": "b580eef7-0bb2-4600-9874-c48384eeebf8"
      },
      "source": [
        "A_tf + X_tf"
      ],
      "execution_count": 97,
      "outputs": [
        {
          "output_type": "execute_result",
          "data": {
            "text/plain": [
              "<tf.Tensor: shape=(3, 2), dtype=int32, numpy=\n",
              "array([[52,  6],\n",
              "       [12, 54],\n",
              "       [ 8, 16]], dtype=int32)>"
            ]
          },
          "metadata": {},
          "execution_count": 97
        }
      ]
    },
    {
      "cell_type": "code",
      "metadata": {
        "id": "J1D7--296SMS",
        "colab": {
          "base_uri": "https://localhost:8080/"
        },
        "outputId": "5479bbab-dd60-4634-9408-de4697f3bc22"
      },
      "source": [
        "A_tf * X_tf"
      ],
      "execution_count": 98,
      "outputs": [
        {
          "output_type": "execute_result",
          "data": {
            "text/plain": [
              "<tf.Tensor: shape=(3, 2), dtype=int32, numpy=\n",
              "array([[675,   8],\n",
              "       [ 35, 728],\n",
              "       [ 15,  63]], dtype=int32)>"
            ]
          },
          "metadata": {},
          "execution_count": 98
        }
      ]
    },
    {
      "cell_type": "markdown",
      "metadata": {
        "id": "FE5f-FEq6SMY"
      },
      "source": [
        "### Reduction"
      ]
    },
    {
      "cell_type": "markdown",
      "metadata": {
        "id": "WPJ9FVQF6SMY"
      },
      "source": [
        "Calculating the sum across all elements of a tensor is a common operation. For example:\n",
        "\n",
        "* For vector ***x*** of length *n*, we calculate $\\sum_{i=1}^{n} x_i$\n",
        "* For matrix ***X*** with *m* by *n* dimensions, we calculate $\\sum_{i=1}^{m} \\sum_{j=1}^{n} X_{i,j}$"
      ]
    },
    {
      "cell_type": "code",
      "metadata": {
        "id": "rXi2stvz6SMZ",
        "colab": {
          "base_uri": "https://localhost:8080/"
        },
        "outputId": "1eb5374e-b5b4-4e65-c13b-f5d138349506"
      },
      "source": [
        "X"
      ],
      "execution_count": 99,
      "outputs": [
        {
          "output_type": "execute_result",
          "data": {
            "text/plain": [
              "array([[25,  2],\n",
              "       [ 5, 26],\n",
              "       [ 3,  7]])"
            ]
          },
          "metadata": {},
          "execution_count": 99
        }
      ]
    },
    {
      "cell_type": "code",
      "metadata": {
        "id": "W9FKaJbf6SMZ",
        "colab": {
          "base_uri": "https://localhost:8080/"
        },
        "outputId": "bb2f2c06-bff3-4a92-fa34-71c7d7e2c640"
      },
      "source": [
        "X.sum()"
      ],
      "execution_count": 100,
      "outputs": [
        {
          "output_type": "execute_result",
          "data": {
            "text/plain": [
              "68"
            ]
          },
          "metadata": {},
          "execution_count": 100
        }
      ]
    },
    {
      "cell_type": "code",
      "metadata": {
        "id": "3y9aw7t66SMc",
        "colab": {
          "base_uri": "https://localhost:8080/"
        },
        "outputId": "26891ad1-4e0f-469f-9620-a9ee70f83276"
      },
      "source": [
        "torch.sum(X_pt)"
      ],
      "execution_count": 101,
      "outputs": [
        {
          "output_type": "execute_result",
          "data": {
            "text/plain": [
              "tensor(68)"
            ]
          },
          "metadata": {},
          "execution_count": 101
        }
      ]
    },
    {
      "cell_type": "code",
      "metadata": {
        "id": "wcjRtFml6SMb",
        "colab": {
          "base_uri": "https://localhost:8080/"
        },
        "outputId": "dfae6c15-5cc6-4702-cca6-edb2bf4a453e"
      },
      "source": [
        "tf.reduce_sum(X_tf)"
      ],
      "execution_count": 102,
      "outputs": [
        {
          "output_type": "execute_result",
          "data": {
            "text/plain": [
              "<tf.Tensor: shape=(), dtype=int32, numpy=68>"
            ]
          },
          "metadata": {},
          "execution_count": 102
        }
      ]
    },
    {
      "cell_type": "code",
      "metadata": {
        "id": "awjH9bOz6SMc",
        "colab": {
          "base_uri": "https://localhost:8080/"
        },
        "outputId": "341cb8d9-6292-439c-ec99-6c6cd28c5e13"
      },
      "source": [
        "# Can also be done along one specific axis alone, e.g.:\n",
        "X.sum(axis=0) # summing over all rows"
      ],
      "execution_count": 103,
      "outputs": [
        {
          "output_type": "execute_result",
          "data": {
            "text/plain": [
              "array([33, 35])"
            ]
          },
          "metadata": {},
          "execution_count": 103
        }
      ]
    },
    {
      "cell_type": "code",
      "metadata": {
        "id": "n2SASjsn6SMd",
        "colab": {
          "base_uri": "https://localhost:8080/"
        },
        "outputId": "e47f0824-4b56-45ec-87d6-9bd5bde18333"
      },
      "source": [
        "X.sum(axis=1) # summing over all columns"
      ],
      "execution_count": null,
      "outputs": [
        {
          "output_type": "execute_result",
          "data": {
            "text/plain": [
              "array([27, 31, 10])"
            ]
          },
          "metadata": {},
          "execution_count": 98
        }
      ]
    },
    {
      "cell_type": "code",
      "metadata": {
        "id": "uVnSxvSJ6SMh",
        "colab": {
          "base_uri": "https://localhost:8080/"
        },
        "outputId": "c8d06ea8-7b99-44e2-fd5d-f4cbe6de738f"
      },
      "source": [
        "torch.sum(X_pt, 0)"
      ],
      "execution_count": null,
      "outputs": [
        {
          "output_type": "execute_result",
          "data": {
            "text/plain": [
              "tensor([33, 35])"
            ]
          },
          "metadata": {},
          "execution_count": 111
        }
      ]
    },
    {
      "cell_type": "code",
      "metadata": {
        "id": "IO8drxz36SMe",
        "colab": {
          "base_uri": "https://localhost:8080/",
          "height": 175
        },
        "outputId": "6a011247-059a-45e7-df0d-91a558e66d2c"
      },
      "source": [
        "tf.reduce_sum(X_tf, 1)"
      ],
      "execution_count": null,
      "outputs": [
        {
          "output_type": "error",
          "ename": "NameError",
          "evalue": "ignored",
          "traceback": [
            "\u001b[0;31m---------------------------------------------------------------------------\u001b[0m",
            "\u001b[0;31mNameError\u001b[0m                                 Traceback (most recent call last)",
            "\u001b[0;32m<ipython-input-110-4918bde9f4ec>\u001b[0m in \u001b[0;36m<cell line: 1>\u001b[0;34m()\u001b[0m\n\u001b[0;32m----> 1\u001b[0;31m \u001b[0mtf\u001b[0m\u001b[0;34m.\u001b[0m\u001b[0mreduce_sum\u001b[0m\u001b[0;34m(\u001b[0m\u001b[0mX_tf\u001b[0m\u001b[0;34m,\u001b[0m \u001b[0;36m1\u001b[0m\u001b[0;34m)\u001b[0m\u001b[0;34m\u001b[0m\u001b[0;34m\u001b[0m\u001b[0m\n\u001b[0m",
            "\u001b[0;31mNameError\u001b[0m: name 'X_tf' is not defined"
          ]
        }
      ]
    },
    {
      "cell_type": "markdown",
      "metadata": {
        "id": "gdAe8S4A6SMj"
      },
      "source": [
        "Many other operations can be applied with reduction along all or a selection of axes, e.g.:\n",
        "\n",
        "* maximum\n",
        "* minimum\n",
        "* mean\n",
        "* product\n",
        "\n",
        "They're fairly straightforward and used less often than summation, so you're welcome to look them up in library docs if you ever need them."
      ]
    },
    {
      "cell_type": "markdown",
      "metadata": {
        "id": "r2eW8S_46SMj"
      },
      "source": [
        "### The Dot Product"
      ]
    },
    {
      "cell_type": "markdown",
      "metadata": {
        "id": "LImETgD76SMj"
      },
      "source": [
        "If we have two vectors (say, ***x*** and ***y***) with the same length *n*, we can calculate the dot product between them. This is annotated several different ways, including the following:\n",
        "\n",
        "* $x \\cdot y$\n",
        "* $x^Ty$\n",
        "* $\\langle x,y \\rangle$\n",
        "\n",
        "Regardless which notation you use (I prefer the first), the calculation is the same; we calculate products in an element-wise fashion and then sum reductively across the products to a scalar value. That is, $x \\cdot y = \\sum_{i=1}^{n} x_i y_i$\n",
        "\n",
        "The dot product is ubiquitous in deep learning: It is performed at every artificial neuron in a deep neural network, which may be made up of millions (or orders of magnitude more) of these neurons."
      ]
    },
    {
      "cell_type": "code",
      "metadata": {
        "id": "HveIE3IDcgvP",
        "colab": {
          "base_uri": "https://localhost:8080/"
        },
        "outputId": "497e59f8-c4a5-4b34-9d1a-8e25cf048493"
      },
      "source": [
        "x"
      ],
      "execution_count": 104,
      "outputs": [
        {
          "output_type": "execute_result",
          "data": {
            "text/plain": [
              "array([25,  2,  5])"
            ]
          },
          "metadata": {},
          "execution_count": 104
        }
      ]
    },
    {
      "cell_type": "code",
      "metadata": {
        "id": "3ZjkZcvVcgvQ",
        "colab": {
          "base_uri": "https://localhost:8080/"
        },
        "outputId": "105860b5-4928-486b-db26-777b34d4616a"
      },
      "source": [
        "y = np.array([0, 1, 2])\n",
        "y"
      ],
      "execution_count": 105,
      "outputs": [
        {
          "output_type": "execute_result",
          "data": {
            "text/plain": [
              "array([0, 1, 2])"
            ]
          },
          "metadata": {},
          "execution_count": 105
        }
      ]
    },
    {
      "cell_type": "code",
      "metadata": {
        "id": "Xu8z0QB0cgvR",
        "colab": {
          "base_uri": "https://localhost:8080/"
        },
        "outputId": "58961979-e6c0-4921-9f23-02929d0a74c2"
      },
      "source": [
        "25*0 + 2*1 + 5*2"
      ],
      "execution_count": 106,
      "outputs": [
        {
          "output_type": "execute_result",
          "data": {
            "text/plain": [
              "12"
            ]
          },
          "metadata": {},
          "execution_count": 106
        }
      ]
    },
    {
      "cell_type": "code",
      "metadata": {
        "id": "ThehRrr8cgvS",
        "colab": {
          "base_uri": "https://localhost:8080/"
        },
        "outputId": "0bb2ac10-e6ee-412a-be42-80aa3c7630e8"
      },
      "source": [
        "np.dot(x, y)"
      ],
      "execution_count": 107,
      "outputs": [
        {
          "output_type": "execute_result",
          "data": {
            "text/plain": [
              "12"
            ]
          },
          "metadata": {},
          "execution_count": 107
        }
      ]
    },
    {
      "cell_type": "code",
      "metadata": {
        "id": "J5Zdua4xcgvT",
        "colab": {
          "base_uri": "https://localhost:8080/"
        },
        "outputId": "7444667c-0124-4bb5-bd44-2373bc1f122b"
      },
      "source": [
        "x_pt"
      ],
      "execution_count": 108,
      "outputs": [
        {
          "output_type": "execute_result",
          "data": {
            "text/plain": [
              "tensor([25,  2,  5])"
            ]
          },
          "metadata": {},
          "execution_count": 108
        }
      ]
    },
    {
      "cell_type": "code",
      "metadata": {
        "id": "b3vEdroXcgvU",
        "colab": {
          "base_uri": "https://localhost:8080/"
        },
        "outputId": "00aed108-6349-4a96-a7d9-0af635943b27"
      },
      "source": [
        "y_pt = torch.tensor([0, 1, 2])\n",
        "y_pt"
      ],
      "execution_count": 109,
      "outputs": [
        {
          "output_type": "execute_result",
          "data": {
            "text/plain": [
              "tensor([0, 1, 2])"
            ]
          },
          "metadata": {},
          "execution_count": 109
        }
      ]
    },
    {
      "cell_type": "code",
      "metadata": {
        "id": "F741E5imcgvV",
        "colab": {
          "base_uri": "https://localhost:8080/"
        },
        "outputId": "8ec454a0-9b6e-4432-ffa5-c2de7eaddc00"
      },
      "source": [
        "np.dot(x_pt, y_pt)"
      ],
      "execution_count": 110,
      "outputs": [
        {
          "output_type": "execute_result",
          "data": {
            "text/plain": [
              "12"
            ]
          },
          "metadata": {},
          "execution_count": 110
        }
      ]
    },
    {
      "cell_type": "code",
      "metadata": {
        "id": "-W5loHc8cgvX",
        "colab": {
          "base_uri": "https://localhost:8080/"
        },
        "outputId": "22b5327b-e4f6-40e6-f0cc-47918d4fc53b"
      },
      "source": [
        "torch.dot(torch.tensor([25, 2, 5.]), torch.tensor([0, 1, 2.]))"
      ],
      "execution_count": 111,
      "outputs": [
        {
          "output_type": "execute_result",
          "data": {
            "text/plain": [
              "tensor(12.)"
            ]
          },
          "metadata": {},
          "execution_count": 111
        }
      ]
    },
    {
      "cell_type": "code",
      "metadata": {
        "id": "jUwKBiqzcgvY",
        "colab": {
          "base_uri": "https://localhost:8080/"
        },
        "outputId": "12b01945-dca7-4857-9dff-ff1b96353266"
      },
      "source": [
        "x_tf"
      ],
      "execution_count": 112,
      "outputs": [
        {
          "output_type": "execute_result",
          "data": {
            "text/plain": [
              "<tf.Variable 'Variable:0' shape=(3,) dtype=int32, numpy=array([25,  2,  5], dtype=int32)>"
            ]
          },
          "metadata": {},
          "execution_count": 112
        }
      ]
    },
    {
      "cell_type": "code",
      "metadata": {
        "id": "Xqt3Rac7cgvZ",
        "colab": {
          "base_uri": "https://localhost:8080/"
        },
        "outputId": "90c90149-0aba-43e9-a8fd-11e1b690bc40"
      },
      "source": [
        "y_tf = tf.Variable([0, 1, 2])\n",
        "y_tf"
      ],
      "execution_count": 113,
      "outputs": [
        {
          "output_type": "execute_result",
          "data": {
            "text/plain": [
              "<tf.Variable 'Variable:0' shape=(3,) dtype=int32, numpy=array([0, 1, 2], dtype=int32)>"
            ]
          },
          "metadata": {},
          "execution_count": 113
        }
      ]
    },
    {
      "cell_type": "code",
      "metadata": {
        "id": "x4pgc5JEcgvc",
        "colab": {
          "base_uri": "https://localhost:8080/"
        },
        "outputId": "4f9ba437-f606-481a-83f7-2c177ac356e9"
      },
      "source": [
        "tf.reduce_sum(tf.multiply(x_tf, y_tf))"
      ],
      "execution_count": 114,
      "outputs": [
        {
          "output_type": "execute_result",
          "data": {
            "text/plain": [
              "<tf.Tensor: shape=(), dtype=int32, numpy=12>"
            ]
          },
          "metadata": {},
          "execution_count": 114
        }
      ]
    },
    {
      "cell_type": "markdown",
      "metadata": {
        "id": "mSmvC1cc6SMj"
      },
      "source": [
        "**Return to slides here.**"
      ]
    },
    {
      "cell_type": "markdown",
      "metadata": {
        "id": "9dfTV7hQR6zn"
      },
      "source": [
        "### Solving Linear Systems"
      ]
    },
    {
      "cell_type": "markdown",
      "metadata": {
        "id": "pCoSpqtWSyFd"
      },
      "source": [
        "In the **Substitution** example, the two equations in the system are:\n",
        "$$ y = 3x $$\n",
        "$$ -5x + 2y = 2 $$\n",
        "\n",
        "The second equation can be rearranged to isolate $y$:\n",
        "$$ 2y = 2 + 5x $$\n",
        "$$ y = \\frac{2 + 5x}{2} = 1 + \\frac{5x}{2} $$"
      ]
    },
    {
      "cell_type": "code",
      "metadata": {
        "id": "1T0_m11kTh82"
      },
      "source": [
        "x = np.linspace(-10, 10, 1000) # start, finish, n points"
      ],
      "execution_count": 115,
      "outputs": []
    },
    {
      "cell_type": "code",
      "metadata": {
        "id": "_K6IyUWcTh85"
      },
      "source": [
        "y1 = 3 * x"
      ],
      "execution_count": 116,
      "outputs": []
    },
    {
      "cell_type": "code",
      "metadata": {
        "id": "DYkQdUJ5Th86"
      },
      "source": [
        "y2 = 1 + (5*x)/2"
      ],
      "execution_count": 117,
      "outputs": []
    },
    {
      "cell_type": "code",
      "metadata": {
        "colab": {
          "base_uri": "https://localhost:8080/",
          "height": 455
        },
        "id": "aBL9NDoHTh86",
        "outputId": "232e5706-fdb7-46f1-b77e-82efe795fcb3"
      },
      "source": [
        "\n",
        "fig, ax = plt.subplots()\n",
        "plt.xlabel('x')\n",
        "plt.ylabel('y')\n",
        "ax.set_xlim([0, 3])\n",
        "ax.set_ylim([0, 8])\n",
        "ax.plot(x, y1, c='green')\n",
        "ax.plot(x, y2, c='brown')\n",
        "plt.axvline(x=2, color='purple', linestyle='--')\n",
        "_ = plt.axhline(y=6, color='purple', linestyle='--')"
      ],
      "execution_count": 118,
      "outputs": [
        {
          "output_type": "display_data",
          "data": {
            "text/plain": [
              "<Figure size 640x480 with 1 Axes>"
            ],
            "image/png": "[encoded data removed]"
          },
          "metadata": {}
        }
      ]
    },
    {
      "cell_type": "markdown",
      "metadata": {
        "id": "F3X4p66XVFXH"
      },
      "source": [
        "In the **Elimination** example, the two equations in the system are:\n",
        "$$ 2x - 3y = 15 $$\n",
        "$$ 4x + 10y = 14 $$\n",
        "\n",
        "Both equations can be rearranged to isolate $y$. Starting with the first equation:\n",
        "$$ -3y = 15 - 2x $$\n",
        "$$ y = \\frac{15 - 2x}{-3} = -5 + \\frac{2x}{3} $$\n",
        "\n",
        "Then for the second equation:\n",
        "$$ 4x + 10y = 14 $$\n",
        "$$ 2x + 5y = 7 $$\n",
        "$$ 5y = 7 - 2x $$\n",
        "$$ y = \\frac{7 - 2x}{5} $$"
      ]
    },
    {
      "cell_type": "code",
      "metadata": {
        "id": "5x3kfV_WWhlR"
      },
      "source": [
        "y1 = -5 + (2*x)/3"
      ],
      "execution_count": 119,
      "outputs": []
    },
    {
      "cell_type": "code",
      "metadata": {
        "id": "dqA1lS0CWu5z"
      },
      "source": [
        "y2 = (7-2*x)/5"
      ],
      "execution_count": 120,
      "outputs": []
    },
    {
      "cell_type": "code",
      "metadata": {
        "id": "6CfRNs1DWzx5",
        "colab": {
          "base_uri": "https://localhost:8080/",
          "height": 455
        },
        "outputId": "8ba14b2b-5d91-46a4-f044-a02cf5c485f8"
      },
      "source": [
        "fig, ax = plt.subplots()\n",
        "plt.xlabel('x')\n",
        "plt.ylabel('y')\n",
        "\n",
        "# Add x and y axes:\n",
        "plt.axvline(x=0, color='lightgray')\n",
        "plt.axhline(y=0, color='lightgray')\n",
        "\n",
        "ax.set_xlim([-2, 10])\n",
        "ax.set_ylim([-6, 4])\n",
        "ax.plot(x, y1, c='green')\n",
        "ax.plot(x, y2, c='brown')\n",
        "plt.axvline(x=6, color='purple', linestyle='--')\n",
        "_ = plt.axhline(y=-1, color='purple', linestyle='--')"
      ],
      "execution_count": 121,
      "outputs": [
        {
          "output_type": "display_data",
          "data": {
            "text/plain": [
              "<Figure size 640x480 with 1 Axes>"
            ],
            "image/png": "[encoded data removed]"
          },
          "metadata": {}
        }
      ]
    },
    {
      "cell_type": "markdown",
      "metadata": {
        "id": "bYDhomCP6SMj"
      },
      "source": [
        "## Segment 3: Matrix Properties"
      ]
    },
    {
      "cell_type": "markdown",
      "metadata": {
        "id": "-HGU_an66SMk"
      },
      "source": [
        "### Frobenius Norm"
      ]
    },
    {
      "cell_type": "code",
      "metadata": {
        "id": "pNQHvAqN6SMk",
        "colab": {
          "base_uri": "https://localhost:8080/"
        },
        "outputId": "f9ce13c5-fca2-4a71-a2e7-4ec45495d1b7"
      },
      "source": [
        "X = np.array([[1, 2], [3, 4]])\n",
        "X"
      ],
      "execution_count": 122,
      "outputs": [
        {
          "output_type": "execute_result",
          "data": {
            "text/plain": [
              "array([[1, 2],\n",
              "       [3, 4]])"
            ]
          },
          "metadata": {},
          "execution_count": 122
        }
      ]
    },
    {
      "cell_type": "code",
      "metadata": {
        "id": "T-q-Tzn26SMm",
        "colab": {
          "base_uri": "https://localhost:8080/"
        },
        "outputId": "af1e1b37-1306-4192-92ad-78a82bb0f4d7"
      },
      "source": [
        "(1**2 + 2**2 + 3**2 + 4**2)**(1/2)"
      ],
      "execution_count": 123,
      "outputs": [
        {
          "output_type": "execute_result",
          "data": {
            "text/plain": [
              "5.477225575051661"
            ]
          },
          "metadata": {},
          "execution_count": 123
        }
      ]
    },
    {
      "cell_type": "code",
      "metadata": {
        "id": "YVG8qiFw6SMn",
        "colab": {
          "base_uri": "https://localhost:8080/"
        },
        "outputId": "b493905c-318a-4353-94d1-b89f4a5f1d2f"
      },
      "source": [
        "np.linalg.norm(X) # same function as for vector L2 norm"
      ],
      "execution_count": 124,
      "outputs": [
        {
          "output_type": "execute_result",
          "data": {
            "text/plain": [
              "5.477225575051661"
            ]
          },
          "metadata": {},
          "execution_count": 124
        }
      ]
    },
    {
      "cell_type": "code",
      "metadata": {
        "id": "FPnBflKVxyik"
      },
      "source": [
        "X_pt = torch.tensor([[1, 2], [3, 4.]]) # torch.norm() supports floats only"
      ],
      "execution_count": 125,
      "outputs": []
    },
    {
      "cell_type": "code",
      "metadata": {
        "id": "NCdTShVyx8z0",
        "colab": {
          "base_uri": "https://localhost:8080/"
        },
        "outputId": "24033df0-fa49-46a0-d7f2-d9b6bd028a28"
      },
      "source": [
        "torch.norm(X_pt)"
      ],
      "execution_count": 126,
      "outputs": [
        {
          "output_type": "execute_result",
          "data": {
            "text/plain": [
              "tensor(5.4772)"
            ]
          },
          "metadata": {},
          "execution_count": 126
        }
      ]
    },
    {
      "cell_type": "code",
      "metadata": {
        "id": "blezf9fLx_nD"
      },
      "source": [
        "X_tf = tf.Variable([[1, 2], [3, 4.]]) # tf.norm() also supports floats only"
      ],
      "execution_count": null,
      "outputs": []
    },
    {
      "cell_type": "code",
      "metadata": {
        "id": "LiCQzyf6ySCZ",
        "colab": {
          "base_uri": "https://localhost:8080/"
        },
        "outputId": "e3c6015d-8b39-4597-d42f-32cd5cab974c"
      },
      "source": [
        "tf.norm(X_tf)"
      ],
      "execution_count": null,
      "outputs": [
        {
          "output_type": "execute_result",
          "data": {
            "text/plain": [
              "<tf.Tensor: shape=(), dtype=float32, numpy=5.477226>"
            ]
          },
          "metadata": {},
          "execution_count": 125
        }
      ]
    },
    {
      "cell_type": "markdown",
      "metadata": {
        "id": "4c6rjVAf6SMo"
      },
      "source": [
        "**Return to slides here.**"
      ]
    },
    {
      "cell_type": "markdown",
      "metadata": {
        "id": "OLN-MMIe6SMo"
      },
      "source": [
        "### Matrix Multiplication (with a Vector)"
      ]
    },
    {
      "cell_type": "code",
      "metadata": {
        "id": "XJw0j8cr6SMo",
        "colab": {
          "base_uri": "https://localhost:8080/"
        },
        "outputId": "ce5e77f1-beff-486f-a7e2-70e794e50e94"
      },
      "source": [
        "A = np.array([[3, 4], [5, 6], [7, 8]])\n",
        "A"
      ],
      "execution_count": 127,
      "outputs": [
        {
          "output_type": "execute_result",
          "data": {
            "text/plain": [
              "array([[3, 4],\n",
              "       [5, 6],\n",
              "       [7, 8]])"
            ]
          },
          "metadata": {},
          "execution_count": 127
        }
      ]
    },
    {
      "cell_type": "code",
      "metadata": {
        "id": "zZQ1Aupc6SMq",
        "colab": {
          "base_uri": "https://localhost:8080/"
        },
        "outputId": "fae81e01-9554-4f92-ffe2-0782efd50645"
      },
      "source": [
        "b = np.array([1, 2])\n",
        "b"
      ],
      "execution_count": 128,
      "outputs": [
        {
          "output_type": "execute_result",
          "data": {
            "text/plain": [
              "array([1, 2])"
            ]
          },
          "metadata": {},
          "execution_count": 128
        }
      ]
    },
    {
      "cell_type": "code",
      "metadata": {
        "id": "ZbeVtNyW6SMq",
        "colab": {
          "base_uri": "https://localhost:8080/"
        },
        "outputId": "f096d647-a1d3-4ac9-cf9a-afb6857c5858"
      },
      "source": [
        "np.dot(A, b) # even though technically dot products are between vectors only"
      ],
      "execution_count": 129,
      "outputs": [
        {
          "output_type": "execute_result",
          "data": {
            "text/plain": [
              "array([11, 17, 23])"
            ]
          },
          "metadata": {},
          "execution_count": 129
        }
      ]
    },
    {
      "cell_type": "code",
      "metadata": {
        "id": "srVI55X96SMu",
        "colab": {
          "base_uri": "https://localhost:8080/"
        },
        "outputId": "1877fd8c-91fa-4f44-c826-a8385e04e11e"
      },
      "source": [
        "A_pt = torch.tensor([[3, 4], [5, 6], [7, 8]])\n",
        "A_pt"
      ],
      "execution_count": 130,
      "outputs": [
        {
          "output_type": "execute_result",
          "data": {
            "text/plain": [
              "tensor([[3, 4],\n",
              "        [5, 6],\n",
              "        [7, 8]])"
            ]
          },
          "metadata": {},
          "execution_count": 130
        }
      ]
    },
    {
      "cell_type": "code",
      "metadata": {
        "id": "5SDn71Xc6SMv",
        "colab": {
          "base_uri": "https://localhost:8080/"
        },
        "outputId": "b6db8c8f-9647-4056-d1ce-437ba03b93b7"
      },
      "source": [
        "b_pt = torch.tensor([1, 2])\n",
        "b_pt"
      ],
      "execution_count": 131,
      "outputs": [
        {
          "output_type": "execute_result",
          "data": {
            "text/plain": [
              "tensor([1, 2])"
            ]
          },
          "metadata": {},
          "execution_count": 131
        }
      ]
    },
    {
      "cell_type": "code",
      "metadata": {
        "id": "OIeoJlsh6SMx",
        "colab": {
          "base_uri": "https://localhost:8080/"
        },
        "outputId": "5a11b14e-3f36-4f6b-a498-b8dc6b5a495b"
      },
      "source": [
        "torch.matmul(A_pt, b_pt) # like np.dot(), automatically infers dims in order to perform dot product, matvec, or matrix multiplication"
      ],
      "execution_count": 132,
      "outputs": [
        {
          "output_type": "execute_result",
          "data": {
            "text/plain": [
              "tensor([11, 17, 23])"
            ]
          },
          "metadata": {},
          "execution_count": 132
        }
      ]
    },
    {
      "cell_type": "code",
      "metadata": {
        "id": "pnob9GkB6SMs",
        "colab": {
          "base_uri": "https://localhost:8080/"
        },
        "outputId": "91916117-6994-49ee-a3c5-f5b9e75e9b00"
      },
      "source": [
        "A_tf = tf.Variable([[3, 4], [5, 6], [7, 8]])\n",
        "A_tf"
      ],
      "execution_count": 133,
      "outputs": [
        {
          "output_type": "execute_result",
          "data": {
            "text/plain": [
              "<tf.Variable 'Variable:0' shape=(3, 2) dtype=int32, numpy=\n",
              "array([[3, 4],\n",
              "       [5, 6],\n",
              "       [7, 8]], dtype=int32)>"
            ]
          },
          "metadata": {},
          "execution_count": 133
        }
      ]
    },
    {
      "cell_type": "code",
      "metadata": {
        "id": "vYtWxf8K6SMt",
        "colab": {
          "base_uri": "https://localhost:8080/"
        },
        "outputId": "df767544-5470-47f8-cc2a-7c0e649c70a2"
      },
      "source": [
        "b_tf = tf.Variable([1, 2])\n",
        "b_tf"
      ],
      "execution_count": null,
      "outputs": [
        {
          "output_type": "execute_result",
          "data": {
            "text/plain": [
              "<tf.Variable 'Variable:0' shape=(2,) dtype=int32, numpy=array([1, 2], dtype=int32)>"
            ]
          },
          "metadata": {},
          "execution_count": 133
        }
      ]
    },
    {
      "cell_type": "code",
      "metadata": {
        "id": "NGBImWRH6SMt",
        "colab": {
          "base_uri": "https://localhost:8080/",
          "height": 175
        },
        "outputId": "f862e52c-bd2b-4320-dfdf-330966654c11"
      },
      "source": [
        "tf.linalg.matvec(A_tf, b_tf)"
      ],
      "execution_count": 134,
      "outputs": [
        {
          "output_type": "error",
          "ename": "NameError",
          "evalue": "ignored",
          "traceback": [
            "\u001b[0;31m---------------------------------------------------------------------------\u001b[0m",
            "\u001b[0;31mNameError\u001b[0m                                 Traceback (most recent call last)",
            "\u001b[0;32m<ipython-input-134-59626c5bec31>\u001b[0m in \u001b[0;36m<cell line: 1>\u001b[0;34m()\u001b[0m\n\u001b[0;32m----> 1\u001b[0;31m \u001b[0mtf\u001b[0m\u001b[0;34m.\u001b[0m\u001b[0mlinalg\u001b[0m\u001b[0;34m.\u001b[0m\u001b[0mmatvec\u001b[0m\u001b[0;34m(\u001b[0m\u001b[0mA_tf\u001b[0m\u001b[0;34m,\u001b[0m \u001b[0mb_tf\u001b[0m\u001b[0;34m)\u001b[0m\u001b[0;34m\u001b[0m\u001b[0;34m\u001b[0m\u001b[0m\n\u001b[0m",
            "\u001b[0;31mNameError\u001b[0m: name 'b_tf' is not defined"
          ]
        }
      ]
    },
    {
      "cell_type": "markdown",
      "metadata": {
        "id": "kzjZmdRR6SMy"
      },
      "source": [
        "**Return to slides here.**"
      ]
    },
    {
      "cell_type": "markdown",
      "metadata": {
        "id": "21ySqay36SM5"
      },
      "source": [
        "### Matrix Multiplication (with Two Matrices)"
      ]
    },
    {
      "cell_type": "code",
      "metadata": {
        "id": "0YRG1Ig2cgvo",
        "colab": {
          "base_uri": "https://localhost:8080/"
        },
        "outputId": "10a157df-dce9-49e7-a655-c36eeb05690a"
      },
      "source": [
        "A"
      ],
      "execution_count": 135,
      "outputs": [
        {
          "output_type": "execute_result",
          "data": {
            "text/plain": [
              "array([[3, 4],\n",
              "       [5, 6],\n",
              "       [7, 8]])"
            ]
          },
          "metadata": {},
          "execution_count": 135
        }
      ]
    },
    {
      "cell_type": "code",
      "metadata": {
        "id": "DyOEZk_c6SM5",
        "colab": {
          "base_uri": "https://localhost:8080/"
        },
        "outputId": "9e24a3e7-250b-40b2-fec2-6af7951c1852"
      },
      "source": [
        "B = np.array([[1, 9], [2, 0]])\n",
        "B"
      ],
      "execution_count": 136,
      "outputs": [
        {
          "output_type": "execute_result",
          "data": {
            "text/plain": [
              "array([[1, 9],\n",
              "       [2, 0]])"
            ]
          },
          "metadata": {},
          "execution_count": 136
        }
      ]
    },
    {
      "cell_type": "code",
      "metadata": {
        "id": "SfKuNxH-6SM6",
        "colab": {
          "base_uri": "https://localhost:8080/"
        },
        "outputId": "67d6a8c2-1d09-4e7f-c4ef-73f861f51978"
      },
      "source": [
        "np.dot(A, B)"
      ],
      "execution_count": 137,
      "outputs": [
        {
          "output_type": "execute_result",
          "data": {
            "text/plain": [
              "array([[11, 27],\n",
              "       [17, 45],\n",
              "       [23, 63]])"
            ]
          },
          "metadata": {},
          "execution_count": 137
        }
      ]
    },
    {
      "cell_type": "markdown",
      "metadata": {
        "id": "WcnQMF0s6SNB"
      },
      "source": [
        "Note that matrix multiplication is not \"commutative\" (i.e., $AB \\neq BA$) so uncommenting the following line will throw a size mismatch error:"
      ]
    },
    {
      "cell_type": "code",
      "metadata": {
        "id": "_mwBGOXO6SNB"
      },
      "source": [
        "# np.dot(B, A)"
      ],
      "execution_count": null,
      "outputs": []
    },
    {
      "cell_type": "code",
      "metadata": {
        "id": "JrrvPoNE6SM9",
        "colab": {
          "base_uri": "https://localhost:8080/"
        },
        "outputId": "ecc85c0a-9181-408c-e047-5620fd89900d"
      },
      "source": [
        "B_pt = torch.from_numpy(B) # much cleaner than TF conversion\n",
        "B_pt"
      ],
      "execution_count": 138,
      "outputs": [
        {
          "output_type": "execute_result",
          "data": {
            "text/plain": [
              "tensor([[1, 9],\n",
              "        [2, 0]])"
            ]
          },
          "metadata": {},
          "execution_count": 138
        }
      ]
    },
    {
      "cell_type": "code",
      "metadata": {
        "id": "Z6PfwCvX6SM-",
        "colab": {
          "base_uri": "https://localhost:8080/"
        },
        "outputId": "7fbfb369-6edd-4d81-94ec-70d897613b1c"
      },
      "source": [
        "# another neat way to create the same tensor with transposition:\n",
        "B_pt = torch.tensor([[1, 2], [9, 0]]).T\n",
        "B_pt"
      ],
      "execution_count": 139,
      "outputs": [
        {
          "output_type": "execute_result",
          "data": {
            "text/plain": [
              "tensor([[1, 9],\n",
              "        [2, 0]])"
            ]
          },
          "metadata": {},
          "execution_count": 139
        }
      ]
    },
    {
      "cell_type": "code",
      "metadata": {
        "id": "16ZNRaVe6SM_",
        "colab": {
          "base_uri": "https://localhost:8080/"
        },
        "outputId": "521557cf-a922-4df8-dbf6-a2545102e34d"
      },
      "source": [
        "torch.matmul(A_pt, B_pt) # no need to change functions, unlike in TF"
      ],
      "execution_count": 140,
      "outputs": [
        {
          "output_type": "execute_result",
          "data": {
            "text/plain": [
              "tensor([[11, 27],\n",
              "        [17, 45],\n",
              "        [23, 63]])"
            ]
          },
          "metadata": {},
          "execution_count": 140
        }
      ]
    },
    {
      "cell_type": "code",
      "metadata": {
        "id": "rkymNjE46SM8",
        "colab": {
          "base_uri": "https://localhost:8080/"
        },
        "outputId": "61001070-b0a0-41d6-aecc-6967ca306b0b"
      },
      "source": [
        "B_tf = tf.convert_to_tensor(B, dtype=tf.int32)\n",
        "B_tf"
      ],
      "execution_count": null,
      "outputs": [
        {
          "output_type": "execute_result",
          "data": {
            "text/plain": [
              "<tf.Tensor: shape=(2, 2), dtype=int32, numpy=\n",
              "array([[1, 9],\n",
              "       [2, 0]], dtype=int32)>"
            ]
          },
          "metadata": {},
          "execution_count": 142
        }
      ]
    },
    {
      "cell_type": "code",
      "metadata": {
        "id": "rslTzFRk6SM8",
        "colab": {
          "base_uri": "https://localhost:8080/"
        },
        "outputId": "94a27f5f-05ff-4889-9613-d10d91bbf798"
      },
      "source": [
        "tf.matmul(A_tf, B_tf)"
      ],
      "execution_count": null,
      "outputs": [
        {
          "output_type": "execute_result",
          "data": {
            "text/plain": [
              "<tf.Tensor: shape=(3, 2), dtype=int32, numpy=\n",
              "array([[11, 27],\n",
              "       [17, 45],\n",
              "       [23, 63]], dtype=int32)>"
            ]
          },
          "metadata": {},
          "execution_count": 143
        }
      ]
    },
    {
      "cell_type": "markdown",
      "metadata": {
        "id": "0eBiTmPp6SNC"
      },
      "source": [
        "**Return to slides here.**"
      ]
    },
    {
      "cell_type": "markdown",
      "metadata": {
        "id": "L2H9F-DQ6SMz"
      },
      "source": [
        "### Symmetric Matrices"
      ]
    },
    {
      "cell_type": "markdown",
      "source": [
        "## how check it is symmetric matrices"
      ],
      "metadata": {
        "id": "k67piF9HMdCe"
      }
    },
    {
      "cell_type": "code",
      "metadata": {
        "id": "5YsPoWo76SMz",
        "colab": {
          "base_uri": "https://localhost:8080/"
        },
        "outputId": "04709958-f2c1-42ac-8915-9e3ccbe10a07"
      },
      "source": [
        "X_sym = np.array([[0, 1, 2], [1, 7, 8], [2, 8, 9]])\n",
        "X_sym"
      ],
      "execution_count": 142,
      "outputs": [
        {
          "output_type": "execute_result",
          "data": {
            "text/plain": [
              "array([[0, 1, 2],\n",
              "       [1, 7, 8],\n",
              "       [2, 8, 9]])"
            ]
          },
          "metadata": {},
          "execution_count": 142
        }
      ]
    },
    {
      "cell_type": "code",
      "metadata": {
        "id": "Skg1wSQVcgv2",
        "colab": {
          "base_uri": "https://localhost:8080/"
        },
        "outputId": "0ff5791c-4aa6-46ac-f41d-5b45bf208d9b"
      },
      "source": [
        "X_sym.T"
      ],
      "execution_count": 143,
      "outputs": [
        {
          "output_type": "execute_result",
          "data": {
            "text/plain": [
              "array([[0, 1, 2],\n",
              "       [1, 7, 8],\n",
              "       [2, 8, 9]])"
            ]
          },
          "metadata": {},
          "execution_count": 143
        }
      ]
    },
    {
      "cell_type": "code",
      "metadata": {
        "id": "Jv40-i9H6SM1",
        "colab": {
          "base_uri": "https://localhost:8080/"
        },
        "outputId": "158f24fb-2652-45bb-914b-29e05389e09d"
      },
      "source": [
        "X_sym.T == X_sym"
      ],
      "execution_count": 144,
      "outputs": [
        {
          "output_type": "execute_result",
          "data": {
            "text/plain": [
              "array([[ True,  True,  True],\n",
              "       [ True,  True,  True],\n",
              "       [ True,  True,  True]])"
            ]
          },
          "metadata": {},
          "execution_count": 144
        }
      ]
    },
    {
      "cell_type": "markdown",
      "metadata": {
        "id": "QZFoUFkq6SM2"
      },
      "source": [
        "**Return to slides here.**"
      ]
    },
    {
      "cell_type": "markdown",
      "metadata": {
        "id": "Mq_c3ftZ6SM2"
      },
      "source": [
        "### Identity Matrices"
      ]
    },
    {
      "cell_type": "code",
      "metadata": {
        "id": "KVSNbH-Z6SM2",
        "colab": {
          "base_uri": "https://localhost:8080/"
        },
        "outputId": "c346e535-1cd5-48ec-e4a9-7dcf289815a4"
      },
      "source": [
        "I = torch.tensor([[1, 0, 0], [0, 1, 0], [0, 0, 1]])\n",
        "I"
      ],
      "execution_count": 145,
      "outputs": [
        {
          "output_type": "execute_result",
          "data": {
            "text/plain": [
              "tensor([[1, 0, 0],\n",
              "        [0, 1, 0],\n",
              "        [0, 0, 1]])"
            ]
          },
          "metadata": {},
          "execution_count": 145
        }
      ]
    },
    {
      "cell_type": "code",
      "metadata": {
        "id": "wcoPDhvR6SM3",
        "colab": {
          "base_uri": "https://localhost:8080/"
        },
        "outputId": "1ebe08fd-8294-451f-946a-7ac5f4e3675e"
      },
      "source": [
        "x_pt = torch.tensor([25, 2, 5])\n",
        "x_pt"
      ],
      "execution_count": 146,
      "outputs": [
        {
          "output_type": "execute_result",
          "data": {
            "text/plain": [
              "tensor([25,  2,  5])"
            ]
          },
          "metadata": {},
          "execution_count": 146
        }
      ]
    },
    {
      "cell_type": "code",
      "metadata": {
        "id": "tuA4RsMv6SM4",
        "colab": {
          "base_uri": "https://localhost:8080/"
        },
        "outputId": "f163a7af-b249-44e5-eedc-1279f4e762a8"
      },
      "source": [
        "torch.matmul(I, x_pt)"
      ],
      "execution_count": 147,
      "outputs": [
        {
          "output_type": "execute_result",
          "data": {
            "text/plain": [
              "tensor([25,  2,  5])"
            ]
          },
          "metadata": {},
          "execution_count": 147
        }
      ]
    },
    {
      "cell_type": "markdown",
      "metadata": {
        "id": "bgDiOYLk6SM5"
      },
      "source": [
        "**Return to slides here.**"
      ]
    },
    {
      "cell_type": "markdown",
      "metadata": {
        "id": "3S_6Yfdkcgv7"
      },
      "source": [
        "### Answers to Matrix Multiplication Qs"
      ]
    },
    {
      "cell_type": "code",
      "metadata": {
        "id": "pINsKNxH6SNC",
        "colab": {
          "base_uri": "https://localhost:8080/"
        },
        "outputId": "889d9d89-2f5a-45c9-b5ff-a14abf4cf1c8"
      },
      "source": [
        "M_q = torch.tensor([[0, 1, 2], [3, 4, 5], [6, 7, 8]])\n",
        "M_q\n"
      ],
      "execution_count": 148,
      "outputs": [
        {
          "output_type": "execute_result",
          "data": {
            "text/plain": [
              "tensor([[0, 1, 2],\n",
              "        [3, 4, 5],\n",
              "        [6, 7, 8]])"
            ]
          },
          "metadata": {},
          "execution_count": 148
        }
      ]
    },
    {
      "cell_type": "code",
      "metadata": {
        "id": "gfjWd8OO6SNE",
        "colab": {
          "base_uri": "https://localhost:8080/"
        },
        "outputId": "6cdcd349-21ac-4602-9e8d-fa5af8d9be11"
      },
      "source": [
        "V_q = torch.tensor([[-1, 1, -2], [0, 1, 2]]).T\n",
        "V_q"
      ],
      "execution_count": 149,
      "outputs": [
        {
          "output_type": "execute_result",
          "data": {
            "text/plain": [
              "tensor([[-1,  0],\n",
              "        [ 1,  1],\n",
              "        [-2,  2]])"
            ]
          },
          "metadata": {},
          "execution_count": 149
        }
      ]
    },
    {
      "cell_type": "code",
      "metadata": {
        "id": "boSkaV2M6SNF",
        "colab": {
          "base_uri": "https://localhost:8080/"
        },
        "outputId": "5a43436c-87e9-41c6-f8b5-b141917a21a3"
      },
      "source": [
        "torch.matmul(M_q, V_q)"
      ],
      "execution_count": 150,
      "outputs": [
        {
          "output_type": "execute_result",
          "data": {
            "text/plain": [
              "tensor([[ -3,   5],\n",
              "        [ -9,  14],\n",
              "        [-15,  23]])"
            ]
          },
          "metadata": {},
          "execution_count": 150
        }
      ]
    },
    {
      "cell_type": "markdown",
      "metadata": {
        "id": "slSNKUcN6SNG"
      },
      "source": [
        "### Matrix Inversion"
      ]
    },
    {
      "cell_type": "code",
      "metadata": {
        "id": "EW0i5ZRk6SNG",
        "colab": {
          "base_uri": "https://localhost:8080/"
        },
        "outputId": "03e18918-adc3-404c-84d2-d88faf97aa68"
      },
      "source": [
        "X = np.array([[4, 2], [-5, -3]])\n",
        "X"
      ],
      "execution_count": 151,
      "outputs": [
        {
          "output_type": "execute_result",
          "data": {
            "text/plain": [
              "array([[ 4,  2],\n",
              "       [-5, -3]])"
            ]
          },
          "metadata": {},
          "execution_count": 151
        }
      ]
    },
    {
      "cell_type": "code",
      "metadata": {
        "id": "hTYpxaWR6SNI",
        "colab": {
          "base_uri": "https://localhost:8080/"
        },
        "outputId": "33edbcb4-dda2-4541-c2e9-1c3e99358a6f"
      },
      "source": [
        "Xinv = np.linalg.inv(X)\n",
        "Xinv"
      ],
      "execution_count": 152,
      "outputs": [
        {
          "output_type": "execute_result",
          "data": {
            "text/plain": [
              "array([[ 1.5,  1. ],\n",
              "       [-2.5, -2. ]])"
            ]
          },
          "metadata": {},
          "execution_count": 152
        }
      ]
    },
    {
      "cell_type": "markdown",
      "metadata": {
        "id": "XFDBBdYOc-7E"
      },
      "source": [
        "As a quick aside, let's prove that $X^{-1}X = I_n$ as per the slides:"
      ]
    },
    {
      "cell_type": "code",
      "metadata": {
        "id": "tyPhf-uZcvdB",
        "outputId": "c1d2c164-45ee-41b3-e8ba-dd605f16b39e",
        "colab": {
          "base_uri": "https://localhost:8080/"
        }
      },
      "source": [
        "np.dot(Xinv, X)"
      ],
      "execution_count": 153,
      "outputs": [
        {
          "output_type": "execute_result",
          "data": {
            "text/plain": [
              "array([[1.00000000e+00, 3.33066907e-16],\n",
              "       [0.00000000e+00, 1.00000000e+00]])"
            ]
          },
          "metadata": {},
          "execution_count": 153
        }
      ]
    },
    {
      "cell_type": "markdown",
      "metadata": {
        "id": "SVwvbBvclul1"
      },
      "source": [
        "...and now back to solving for the unknowns in $w$:"
      ]
    },
    {
      "cell_type": "code",
      "metadata": {
        "id": "Q5sQqFaz6SNK",
        "colab": {
          "base_uri": "https://localhost:8080/"
        },
        "outputId": "00ac8aa2-6c2d-4bf8-c6ad-0f4ac1f179b9"
      },
      "source": [
        "y = np.array([4, -7])\n",
        "y"
      ],
      "execution_count": 154,
      "outputs": [
        {
          "output_type": "execute_result",
          "data": {
            "text/plain": [
              "array([ 4, -7])"
            ]
          },
          "metadata": {},
          "execution_count": 154
        }
      ]
    },
    {
      "cell_type": "code",
      "metadata": {
        "id": "PK7m6F1I6SNL",
        "colab": {
          "base_uri": "https://localhost:8080/"
        },
        "outputId": "428699a5-4607-448b-f116-d141807f3e9d"
      },
      "source": [
        "w = np.dot(Xinv, y)\n",
        "w"
      ],
      "execution_count": 155,
      "outputs": [
        {
          "output_type": "execute_result",
          "data": {
            "text/plain": [
              "array([-1.,  4.])"
            ]
          },
          "metadata": {},
          "execution_count": 155
        }
      ]
    },
    {
      "cell_type": "markdown",
      "metadata": {
        "id": "fyBOHgdccgwD"
      },
      "source": [
        "Show that $y = Xw$:"
      ]
    },
    {
      "cell_type": "code",
      "metadata": {
        "id": "SVBojjwacgwD",
        "colab": {
          "base_uri": "https://localhost:8080/"
        },
        "outputId": "fae43cf4-42d3-4473-ff2e-2a3e1ca240d8"
      },
      "source": [
        "np.dot(X, w)"
      ],
      "execution_count": 156,
      "outputs": [
        {
          "output_type": "execute_result",
          "data": {
            "text/plain": [
              "array([ 4., -7.])"
            ]
          },
          "metadata": {},
          "execution_count": 156
        }
      ]
    },
    {
      "cell_type": "markdown",
      "metadata": {
        "id": "rKELsi0PZCr0"
      },
      "source": [
        "**Geometric Visualization**\n",
        "\n",
        "Recalling from the slides that the two equations in the system are:\n",
        "$$ 4b + 2c = 4 $$\n",
        "$$ -5b - 3c = -7 $$\n",
        "\n",
        "Both equations can be rearranged to isolate a variable, say $c$. Starting with the first equation:\n",
        "$$ 4b + 2c = 4 $$\n",
        "$$ 2b + c = 2 $$\n",
        "$$ c = 2 - 2b $$\n",
        "\n",
        "Then for the second equation:\n",
        "$$ -5b - 3c = -7 $$\n",
        "$$ -3c = -7 + 5b $$\n",
        "$$ c = \\frac{-7 + 5b}{-3} = \\frac{7 - 5b}{3} $$"
      ]
    },
    {
      "cell_type": "code",
      "metadata": {
        "id": "ZASIBqroap7k"
      },
      "source": [
        "b = np.linspace(-10, 10, 1000) # start, finish, n points"
      ],
      "execution_count": 157,
      "outputs": []
    },
    {
      "cell_type": "code",
      "metadata": {
        "id": "9XsUdVsmaqTr"
      },
      "source": [
        "c1 = 2 - 2*b"
      ],
      "execution_count": 158,
      "outputs": []
    },
    {
      "cell_type": "code",
      "metadata": {
        "id": "8Mwn1tAca1Cl"
      },
      "source": [
        "c2 = (7-5*b)/3"
      ],
      "execution_count": 159,
      "outputs": []
    },
    {
      "cell_type": "code",
      "metadata": {
        "id": "X5ozP9jZauQa",
        "colab": {
          "base_uri": "https://localhost:8080/",
          "height": 455
        },
        "outputId": "4215d380-e109-4c99-9a76-3c42eb34beb5"
      },
      "source": [
        "fig, ax = plt.subplots()\n",
        "plt.xlabel('b', c='darkorange')\n",
        "plt.ylabel('c', c='brown')\n",
        "\n",
        "plt.axvline(x=0, color='lightgray')\n",
        "plt.axhline(y=0, color='lightgray')\n",
        "\n",
        "ax.set_xlim([-2, 3])\n",
        "ax.set_ylim([-1, 5])\n",
        "ax.plot(b, c1, c='purple')\n",
        "ax.plot(b, c2, c='purple')\n",
        "plt.axvline(x=-1, color='green', linestyle='--')\n",
        "_ = plt.axhline(y=4, color='green', linestyle='--')"
      ],
      "execution_count": 160,
      "outputs": [
        {
          "output_type": "display_data",
          "data": {
            "text/plain": [
              "<Figure size 640x480 with 1 Axes>"
            ],
            "image/png": "[encoded data removed]"
          },
          "metadata": {}
        }
      ]
    },
    {
      "cell_type": "markdown",
      "metadata": {
        "id": "14uhePTna7ZV"
      },
      "source": [
        "In PyTorch and TensorFlow:"
      ]
    },
    {
      "cell_type": "code",
      "metadata": {
        "id": "7qo-SAvaansp",
        "colab": {
          "base_uri": "https://localhost:8080/"
        },
        "outputId": "d09db51f-e9dd-4479-99b9-c8dd7ec3b523"
      },
      "source": [
        "torch.inverse(torch.tensor([[4, 2], [-5, -3.]])) # float type"
      ],
      "execution_count": 161,
      "outputs": [
        {
          "output_type": "execute_result",
          "data": {
            "text/plain": [
              "tensor([[ 1.5000,  1.0000],\n",
              "        [-2.5000, -2.0000]])"
            ]
          },
          "metadata": {},
          "execution_count": 161
        }
      ]
    },
    {
      "cell_type": "code",
      "metadata": {
        "id": "uqtyF3Jqaz4l",
        "colab": {
          "base_uri": "https://localhost:8080/"
        },
        "outputId": "2573a520-f653-4758-d8e3-2556929e1696"
      },
      "source": [
        "tf.linalg.inv(tf.Variable([[4, 2], [-5, -3.]])) # also float"
      ],
      "execution_count": 162,
      "outputs": [
        {
          "output_type": "execute_result",
          "data": {
            "text/plain": [
              "<tf.Tensor: shape=(2, 2), dtype=float32, numpy=\n",
              "array([[ 1.4999998,  0.9999998],\n",
              "       [-2.4999995, -1.9999996]], dtype=float32)>"
            ]
          },
          "metadata": {},
          "execution_count": 162
        }
      ]
    },
    {
      "cell_type": "markdown",
      "metadata": {
        "id": "hcP2S4AMAHT_"
      },
      "source": [
        "**Exercises**:\n",
        "\n",
        "1. As done with NumPy above, use PyTorch to calculate $w$ from $X$ and $y$. Subsequently, confirm that $y = Xw$.\n",
        "2. Repeat again, now using TensorFlow."
      ]
    },
    {
      "cell_type": "markdown",
      "metadata": {
        "id": "AMxROg326SNN"
      },
      "source": [
        "**Return to slides here.**"
      ]
    },
    {
      "cell_type": "markdown",
      "metadata": {
        "id": "N8ZxpgcN6SNO"
      },
      "source": [
        "### Matrix Inversion Where No Solution"
      ]
    },
    {
      "cell_type": "code",
      "metadata": {
        "id": "RYORHY4E6SNO",
        "colab": {
          "base_uri": "https://localhost:8080/"
        },
        "outputId": "317f2ccb-907d-4b19-fc8b-cf44f58f0369"
      },
      "source": [
        "X = np.array([[-4, 1], [-8, 2]])\n",
        "X"
      ],
      "execution_count": null,
      "outputs": [
        {
          "output_type": "execute_result",
          "data": {
            "text/plain": [
              "array([[-4,  1],\n",
              "       [-8,  2]])"
            ]
          },
          "metadata": {},
          "execution_count": 140
        }
      ]
    },
    {
      "cell_type": "code",
      "metadata": {
        "id": "o7GcISdI6SNP"
      },
      "source": [
        "# Uncommenting the following line results in a \"singular matrix\" error\n",
        "# Xinv = np.linalg.inv(X)"
      ],
      "execution_count": null,
      "outputs": []
    },
    {
      "cell_type": "markdown",
      "metadata": {
        "id": "uk485dwoI021"
      },
      "source": [
        "Feel free to try inverting a non-square matrix; this will throw an error too.\n",
        "\n",
        "**Return to slides here.**"
      ]
    },
    {
      "cell_type": "markdown",
      "metadata": {
        "id": "BXomEBoyDQyO"
      },
      "source": [
        "### Orthogonal Matrices\n",
        "\n",
        "These are the solutions to Exercises 3 and 4 on **orthogonal matrices** from the slides.\n",
        "\n",
        "For Exercise 3, to demonstrate the matrix $I_3$ has mutually orthogonal columns, we show that the dot product of any pair of columns is zero:"
      ]
    },
    {
      "cell_type": "code",
      "metadata": {
        "id": "-Un4Aq805HM1",
        "colab": {
          "base_uri": "https://localhost:8080/"
        },
        "outputId": "7d25623e-dc11-4a8b-ce3d-ca6fefe7a0f4"
      },
      "source": [
        "I = np.array([[1, 0, 0], [0, 1, 0], [0, 0, 1]])\n",
        "I"
      ],
      "execution_count": 163,
      "outputs": [
        {
          "output_type": "execute_result",
          "data": {
            "text/plain": [
              "array([[1, 0, 0],\n",
              "       [0, 1, 0],\n",
              "       [0, 0, 1]])"
            ]
          },
          "metadata": {},
          "execution_count": 163
        }
      ]
    },
    {
      "cell_type": "code",
      "metadata": {
        "colab": {
          "base_uri": "https://localhost:8080/"
        },
        "id": "CUhMi2_IEyaI",
        "outputId": "fccb31e8-eb66-40e6-f606-e52743b0f9bd"
      },
      "source": [
        "column_1 = I[:,0]\n",
        "column_1"
      ],
      "execution_count": 164,
      "outputs": [
        {
          "output_type": "execute_result",
          "data": {
            "text/plain": [
              "array([1, 0, 0])"
            ]
          },
          "metadata": {},
          "execution_count": 164
        }
      ]
    },
    {
      "cell_type": "code",
      "metadata": {
        "colab": {
          "base_uri": "https://localhost:8080/"
        },
        "id": "xsOtn-siE63K",
        "outputId": "d5dc0ff5-752b-45c5-8663-c48173d22836"
      },
      "source": [
        "column_2 = I[:,1]\n",
        "column_2"
      ],
      "execution_count": 165,
      "outputs": [
        {
          "output_type": "execute_result",
          "data": {
            "text/plain": [
              "array([0, 1, 0])"
            ]
          },
          "metadata": {},
          "execution_count": 165
        }
      ]
    },
    {
      "cell_type": "code",
      "metadata": {
        "colab": {
          "base_uri": "https://localhost:8080/"
        },
        "id": "Pv3b51ExE9ZX",
        "outputId": "1fb188d6-12a7-4d1c-f177-66be89e12716"
      },
      "source": [
        "column_3 = I[:,2]\n",
        "column_3"
      ],
      "execution_count": 166,
      "outputs": [
        {
          "output_type": "execute_result",
          "data": {
            "text/plain": [
              "array([0, 0, 1])"
            ]
          },
          "metadata": {},
          "execution_count": 166
        }
      ]
    },
    {
      "cell_type": "code",
      "metadata": {
        "colab": {
          "base_uri": "https://localhost:8080/"
        },
        "id": "VhnRlc8eElYc",
        "outputId": "bdf54200-ec6d-41bb-92bf-6461b5ffbc37"
      },
      "source": [
        "np.dot(column_1, column_2)"
      ],
      "execution_count": 167,
      "outputs": [
        {
          "output_type": "execute_result",
          "data": {
            "text/plain": [
              "0"
            ]
          },
          "metadata": {},
          "execution_count": 167
        }
      ]
    },
    {
      "cell_type": "code",
      "metadata": {
        "colab": {
          "base_uri": "https://localhost:8080/"
        },
        "id": "mVq4m-LfFGjQ",
        "outputId": "727866bc-38cb-4d7c-cbd0-0ed13ba4e27c"
      },
      "source": [
        "np.dot(column_1, column_3)"
      ],
      "execution_count": 168,
      "outputs": [
        {
          "output_type": "execute_result",
          "data": {
            "text/plain": [
              "0"
            ]
          },
          "metadata": {},
          "execution_count": 168
        }
      ]
    },
    {
      "cell_type": "code",
      "metadata": {
        "colab": {
          "base_uri": "https://localhost:8080/"
        },
        "id": "nJj-aihzFILx",
        "outputId": "5d24ceb2-2952-4263-d853-31ea113065a4"
      },
      "source": [
        "np.dot(column_2, column_3)"
      ],
      "execution_count": 169,
      "outputs": [
        {
          "output_type": "execute_result",
          "data": {
            "text/plain": [
              "0"
            ]
          },
          "metadata": {},
          "execution_count": 169
        }
      ]
    },
    {
      "cell_type": "markdown",
      "metadata": {
        "id": "FIzpkdJmFYdY"
      },
      "source": [
        "We can use the `np.linalg.norm()` method from earlier in the notebook to demonstrate that each column of $I_3$ has unit norm:"
      ]
    },
    {
      "cell_type": "code",
      "metadata": {
        "colab": {
          "base_uri": "https://localhost:8080/"
        },
        "id": "xKbbeqegFJSc",
        "outputId": "ef00afa3-8637-4f73-c0a4-c29fb776675f"
      },
      "source": [
        "np.linalg.norm(column_1)"
      ],
      "execution_count": 170,
      "outputs": [
        {
          "output_type": "execute_result",
          "data": {
            "text/plain": [
              "1.0"
            ]
          },
          "metadata": {},
          "execution_count": 170
        }
      ]
    },
    {
      "cell_type": "code",
      "metadata": {
        "colab": {
          "base_uri": "https://localhost:8080/"
        },
        "id": "Ycv0L8mpGKRC",
        "outputId": "efbf7f3c-488f-4ef0-ba9d-21fd85b1365a"
      },
      "source": [
        "np.linalg.norm(column_2)"
      ],
      "execution_count": 171,
      "outputs": [
        {
          "output_type": "execute_result",
          "data": {
            "text/plain": [
              "1.0"
            ]
          },
          "metadata": {},
          "execution_count": 171
        }
      ]
    },
    {
      "cell_type": "code",
      "metadata": {
        "colab": {
          "base_uri": "https://localhost:8080/"
        },
        "id": "LsEuRezYGLgY",
        "outputId": "ad3d1281-83f9-4f96-e353-56716c4bc4bc"
      },
      "source": [
        "np.linalg.norm(column_3)"
      ],
      "execution_count": 172,
      "outputs": [
        {
          "output_type": "execute_result",
          "data": {
            "text/plain": [
              "1.0"
            ]
          },
          "metadata": {},
          "execution_count": 172
        }
      ]
    },
    {
      "cell_type": "markdown",
      "metadata": {
        "id": "NMrHdyrsGQ1X"
      },
      "source": [
        "Since the matrix $I_3$ has mutually orthogonal columns and each column has unit norm, the column vectors of $I_3$ are *orthonormal*. Since $I_3^T = I_3$, this means that the *rows* of $I_3$ must also be orthonormal.\n",
        "\n",
        "Since the columns and rows of $I_3$ are orthonormal, $I_3$ is an *orthogonal matrix*."
      ]
    },
    {
      "cell_type": "markdown",
      "metadata": {
        "id": "K7EykcPdIZhE"
      },
      "source": [
        "For Exercise 4, let's repeat the steps of Exercise 3 with matrix *K* instead of $I_3$. We could use NumPy again, but for fun I'll use PyTorch instead. (You're welcome to try it with TensorFlow if you feel so inclined.)"
      ]
    },
    {
      "cell_type": "code",
      "metadata": {
        "colab": {
          "base_uri": "https://localhost:8080/"
        },
        "id": "MXVyu8tSGMlZ",
        "outputId": "1827f6ef-b399-4582-c3a2-77fa5463b9f2"
      },
      "source": [
        "K = torch.tensor([[2/3, 1/3, 2/3], [-2/3, 2/3, 1/3], [1/3, 2/3, -2/3]])\n",
        "K"
      ],
      "execution_count": 173,
      "outputs": [
        {
          "output_type": "execute_result",
          "data": {
            "text/plain": [
              "tensor([[ 0.6667,  0.3333,  0.6667],\n",
              "        [-0.6667,  0.6667,  0.3333],\n",
              "        [ 0.3333,  0.6667, -0.6667]])"
            ]
          },
          "metadata": {},
          "execution_count": 173
        }
      ]
    },
    {
      "cell_type": "code",
      "metadata": {
        "colab": {
          "base_uri": "https://localhost:8080/"
        },
        "id": "xqkmSYNfJmTs",
        "outputId": "7057ccb1-7c81-4b7f-f308-70b53689b633"
      },
      "source": [
        "Kcol_1 = K[:,0]\n",
        "Kcol_1"
      ],
      "execution_count": 174,
      "outputs": [
        {
          "output_type": "execute_result",
          "data": {
            "text/plain": [
              "tensor([ 0.6667, -0.6667,  0.3333])"
            ]
          },
          "metadata": {},
          "execution_count": 174
        }
      ]
    },
    {
      "cell_type": "code",
      "metadata": {
        "colab": {
          "base_uri": "https://localhost:8080/"
        },
        "id": "ncoc3IxNJ0v2",
        "outputId": "3bba6dd0-7734-4836-9a0e-95031eced431"
      },
      "source": [
        "Kcol_2 = K[:,1]\n",
        "Kcol_2"
      ],
      "execution_count": 175,
      "outputs": [
        {
          "output_type": "execute_result",
          "data": {
            "text/plain": [
              "tensor([0.3333, 0.6667, 0.6667])"
            ]
          },
          "metadata": {},
          "execution_count": 175
        }
      ]
    },
    {
      "cell_type": "code",
      "metadata": {
        "colab": {
          "base_uri": "https://localhost:8080/"
        },
        "id": "ISEKQ0AqJ2wf",
        "outputId": "c68fd0d5-f6b0-48c9-c9b6-6b5f1efcc134"
      },
      "source": [
        "Kcol_3 = K[:,2]\n",
        "Kcol_3"
      ],
      "execution_count": 176,
      "outputs": [
        {
          "output_type": "execute_result",
          "data": {
            "text/plain": [
              "tensor([ 0.6667,  0.3333, -0.6667])"
            ]
          },
          "metadata": {},
          "execution_count": 176
        }
      ]
    },
    {
      "cell_type": "code",
      "metadata": {
        "colab": {
          "base_uri": "https://localhost:8080/"
        },
        "id": "jvdXuMzbJ44d",
        "outputId": "ac35456d-a8ce-43d1-e6bb-78888343938c"
      },
      "source": [
        "torch.dot(Kcol_1, Kcol_2)"
      ],
      "execution_count": 177,
      "outputs": [
        {
          "output_type": "execute_result",
          "data": {
            "text/plain": [
              "tensor(0.)"
            ]
          },
          "metadata": {},
          "execution_count": 177
        }
      ]
    },
    {
      "cell_type": "code",
      "metadata": {
        "colab": {
          "base_uri": "https://localhost:8080/"
        },
        "id": "BUR60eBuKEbU",
        "outputId": "3ed86bce-f74f-4b7b-a739-513172ac80a5"
      },
      "source": [
        "torch.dot(Kcol_1, Kcol_3)"
      ],
      "execution_count": 178,
      "outputs": [
        {
          "output_type": "execute_result",
          "data": {
            "text/plain": [
              "tensor(0.)"
            ]
          },
          "metadata": {},
          "execution_count": 178
        }
      ]
    },
    {
      "cell_type": "code",
      "metadata": {
        "colab": {
          "base_uri": "https://localhost:8080/"
        },
        "id": "Rg7QvQwuKGJZ",
        "outputId": "c1926a5b-2d7a-408c-80bf-64e7b459c329"
      },
      "source": [
        "torch.dot(Kcol_2, Kcol_3)"
      ],
      "execution_count": 179,
      "outputs": [
        {
          "output_type": "execute_result",
          "data": {
            "text/plain": [
              "tensor(0.)"
            ]
          },
          "metadata": {},
          "execution_count": 179
        }
      ]
    },
    {
      "cell_type": "markdown",
      "metadata": {
        "id": "wNdV36-QKNK-"
      },
      "source": [
        "We've now determined that the columns of $K$ are orthogonal."
      ]
    },
    {
      "cell_type": "code",
      "metadata": {
        "colab": {
          "base_uri": "https://localhost:8080/"
        },
        "id": "DDgyhj1AKHdS",
        "outputId": "ee003846-f903-4be0-d857-5659244856ae"
      },
      "source": [
        "torch.norm(Kcol_1)"
      ],
      "execution_count": 180,
      "outputs": [
        {
          "output_type": "execute_result",
          "data": {
            "text/plain": [
              "tensor(1.)"
            ]
          },
          "metadata": {},
          "execution_count": 180
        }
      ]
    },
    {
      "cell_type": "code",
      "metadata": {
        "colab": {
          "base_uri": "https://localhost:8080/"
        },
        "id": "KvQZy_E2KorW",
        "outputId": "fb875020-602a-4e12-d76d-93b9fc25e4df"
      },
      "source": [
        "torch.norm(Kcol_2)"
      ],
      "execution_count": 181,
      "outputs": [
        {
          "output_type": "execute_result",
          "data": {
            "text/plain": [
              "tensor(1.)"
            ]
          },
          "metadata": {},
          "execution_count": 181
        }
      ]
    },
    {
      "cell_type": "code",
      "metadata": {
        "colab": {
          "base_uri": "https://localhost:8080/"
        },
        "id": "7H7dx8a7Kp9f",
        "outputId": "1c7c1b0a-163e-46f5-851e-3891a9c6a7ac"
      },
      "source": [
        "torch.norm(Kcol_3)"
      ],
      "execution_count": 182,
      "outputs": [
        {
          "output_type": "execute_result",
          "data": {
            "text/plain": [
              "tensor(1.)"
            ]
          },
          "metadata": {},
          "execution_count": 182
        }
      ]
    },
    {
      "cell_type": "markdown",
      "metadata": {
        "id": "VPPtOk5OKtJ_"
      },
      "source": [
        "We've now determined that, in addition to being orthogonal, the columns of $K$ have unit norm, therefore they are orthonormal.\n",
        "\n",
        "To ensure that $K$ is an orthogonal matrix, we would need to show that not only does it have orthonormal columns but it has orthonormal rows are as well. Since $K^T \\neq K$, we can't prove this quite as straightforwardly as we did with $I_3$.\n",
        "\n",
        "One approach would be to repeat the steps we used to determine that $K$ has orthogonal columns with all of the matrix's rows (please feel free to do so). Alternatively, we can use an orthogonal matrix-specific equation from the slides, $A^TA = I$, to demonstrate that $K$ is orthogonal in a single line of code:"
      ]
    },
    {
      "cell_type": "code",
      "metadata": {
        "colab": {
          "base_uri": "https://localhost:8080/"
        },
        "id": "W8Ao0KhVNHqF",
        "outputId": "8978c95b-cbee-462e-c154-eeec3a4dd8f8"
      },
      "source": [
        "torch.matmul(K.T, K)"
      ],
      "execution_count": 183,
      "outputs": [
        {
          "output_type": "execute_result",
          "data": {
            "text/plain": [
              "tensor([[ 1.0000e+00, -3.3114e-09,  3.3114e-09],\n",
              "        [-3.3114e-09,  1.0000e+00,  6.6227e-09],\n",
              "        [ 3.3114e-09,  6.6227e-09,  1.0000e+00]])"
            ]
          },
          "metadata": {},
          "execution_count": 183
        }
      ]
    },
    {
      "cell_type": "markdown",
      "metadata": {
        "id": "scM6FCpjNgYA"
      },
      "source": [
        "Notwithstanding rounding errors that we can safely ignore, this confirms that $K^TK = I$ and therefore $K$ is an orthogonal matrix."
      ]
    },
    {
      "cell_type": "code",
      "source": [],
      "metadata": {
        "id": "jWNBQ7r4QWO8"
      },
      "execution_count": 183,
      "outputs": []
    }
  ]
}